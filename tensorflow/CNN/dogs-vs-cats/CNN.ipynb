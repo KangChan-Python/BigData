{
 "cells": [
  {
   "cell_type": "code",
   "execution_count": 2,
   "metadata": {},
   "outputs": [
    {
     "name": "stdout",
     "output_type": "stream",
     "text": [
      "2.1.0\n"
     ]
    }
   ],
   "source": [
    "import tensorflow as tf\n",
    "from tensorflow import keras\n",
    "\n",
    "print(tf.__version__)"
   ]
  },
  {
   "cell_type": "code",
   "execution_count": 3,
   "metadata": {},
   "outputs": [
    {
     "name": "stdout",
     "output_type": "stream",
     "text": [
      "25002\n"
     ]
    }
   ],
   "source": [
    "import os\n",
    "from shutil import copyfile\n",
    "\n",
    "print(len(os.listdir(f'{os.getcwd()}/dogs-vs-cats/train/train')))\n"
   ]
  },
  {
   "cell_type": "code",
   "execution_count": null,
   "metadata": {},
   "outputs": [],
   "source": []
  },
  {
   "cell_type": "code",
   "execution_count": 4,
   "metadata": {},
   "outputs": [
    {
     "name": "stdout",
     "output_type": "stream",
     "text": [
      "cats_dir : 12500\n",
      "dogs_dir : 12500\n"
     ]
    }
   ],
   "source": [
    "fromDIR = f'{os.getcwd()}/dogs-vs-cats/train/train'\n",
    "files = [i for i in os.listdir(f'{os.getcwd()}/dogs-vs-cats/train/train')]\n",
    "for file in files:\n",
    "    if 'cat.' in file:\n",
    "        copyfile(os.path.join(fromDIR, file),os.path.join(fromDIR+'/cats/',file))\n",
    "    elif 'dog.' in file:\n",
    "        copyfile(os.path.join(fromDIR,file),os.path.join(fromDIR+'/dogs/',file))\n",
    "print('cats_dir :',len(os.listdir(fromDIR+'/cats')))\n",
    "print('dogs_dir :', len(os.listdir(fromDIR+'/dogs')))"
   ]
  },
  {
   "cell_type": "code",
   "execution_count": 9,
   "metadata": {},
   "outputs": [
    {
     "name": "stdout",
     "output_type": "stream",
     "text": [
      "cats_dir_t : 10000\n",
      "dogs_dir_t : 10000\n",
      "cats_dir_v : 2500\n",
      "dogs_dir_V : 2500\n"
     ]
    }
   ],
   "source": [
    "import random\n",
    "\n",
    "\n",
    "d_files = [i for i in os.listdir(fromDIR+'/dogs/')]\n",
    "c_files = [i for i in os.listdir(fromDIR+'/cats/')]\n",
    "d_files = random.sample(d_files, len(d_files))\n",
    "c_files = random.sample(c_files, len(c_files))\n",
    "toDIR_t = f'{os.getcwd()}/dogs-vs-cats/train/training/'\n",
    "toDIR_v = f'{os.getcwd()}/dogs-vs-cats/train/validation/'\n",
    "index = int(0.8 * len(os.listdir(fromDIR+'/cats')))\n",
    "for file in d_files[:index]:\n",
    "    copyfile(os.path.join(fromDIR+'/dogs/', file),os.path.join(toDIR_t+'dogs/',file))\n",
    "for file in c_files[:index]:\n",
    "    copyfile(os.path.join(fromDIR+'/cats/',file),os.path.join(toDIR_t+'cats/',file))\n",
    "for file in d_files[index:]:\n",
    "    copyfile(os.path.join(fromDIR+'/dogs/', file),os.path.join(toDIR_v+'dogs/',file))\n",
    "for file in c_files[index:]:\n",
    "    copyfile(os.path.join(fromDIR+'/cats/',file),os.path.join(toDIR_v+'cats/',file))\n",
    "print('cats_dir_t :',len(os.listdir(toDIR_t+'/cats')))\n",
    "print('dogs_dir_t :', len(os.listdir(toDIR_t+'/dogs')))\n",
    "print('cats_dir_v :',len(os.listdir(toDIR_v+'/cats')))\n",
    "print('dogs_dir_V :', len(os.listdir(toDIR_v+'/dogs')))"
   ]
  },
  {
   "cell_type": "code",
   "execution_count": 11,
   "metadata": {},
   "outputs": [
    {
     "name": "stdout",
     "output_type": "stream",
     "text": [
      "Found 20000 images belonging to 2 classes.\n",
      "Found 5000 images belonging to 2 classes.\n"
     ]
    }
   ],
   "source": [
    "from tensorflow.keras.preprocessing.image import ImageDataGenerator\n",
    "\n",
    "TRAINING_DIR = toDIR_t\n",
    "train_datagen = ImageDataGenerator(rescale= 1./255)\n",
    "\n",
    "train_generator = train_datagen.flow_from_directory(\n",
    "TRAINING_DIR,batch_size =10,class_mode ='binary', target_size=(150,150)) \n",
    "\n",
    "VALIDATION_DIR =  toDIR_v\n",
    "validation_datagen =ImageDataGenerator(rescale= 1./255) \n",
    "\n",
    "validation_generator =validation_datagen.flow_from_directory(\n",
    "VALIDATION_DIR,batch_size =10,class_mode ='binary', target_size=(150,150)) \n",
    "\n"
   ]
  },
  {
   "cell_type": "code",
   "execution_count": 13,
   "metadata": {},
   "outputs": [],
   "source": [
    "from tensorflow.keras.optimizers import RMSprop\n",
    "model = tf.keras.models.Sequential([\n",
    "\n",
    "    tf.keras.layers.Conv2D(16, (3,3), activation='relu', input_shape =(150,150,3)),\n",
    "    tf.keras.layers.MaxPool2D(2,2),\n",
    "    tf.keras.layers.Conv2D(32,(3,3),activation='relu'),\n",
    "    tf.keras.layers.MaxPool2D(2,2),\n",
    "    tf.keras.layers.Conv2D(32,(3,3),activation='relu'),\n",
    "    tf.keras.layers.MaxPool2D(2,2),\n",
    "    tf.keras.layers.Conv2D(64,(3,3),activation='relu'),\n",
    "    tf.keras.layers.MaxPool2D(2,2),\n",
    "    tf.keras.layers.Flatten(),\n",
    "    tf.keras.layers.Dense(256, activation = 'relu'),\n",
    "    tf.keras.layers.Dense(1,activation='sigmoid')\n",
    "])\n",
    "\n",
    "model.compile(optimizer=RMSprop(lr=0.001), loss='binary_crossentropy', metrics=['acc'])"
   ]
  },
  {
   "cell_type": "code",
   "execution_count": 16,
   "metadata": {},
   "outputs": [
    {
     "name": "stdout",
     "output_type": "stream",
     "text": [
      "WARNING:tensorflow:sample_weight modes were coerced from\n",
      "  ...\n",
      "    to  \n",
      "  ['...']\n",
      "WARNING:tensorflow:sample_weight modes were coerced from\n",
      "  ...\n",
      "    to  \n",
      "  ['...']\n",
      "Train for 2000 steps, validate for 500 steps\n",
      "Epoch 1/10\n",
      "2000/2000 [==============================] - 448s 224ms/step - loss: 0.4805 - acc: 0.7778 - val_loss: 0.5017 - val_acc: 0.7536\n",
      "Epoch 2/10\n",
      "2000/2000 [==============================] - 461s 231ms/step - loss: 0.4243 - acc: 0.8119 - val_loss: 0.3797 - val_acc: 0.8352\n",
      "Epoch 3/10\n",
      "2000/2000 [==============================] - 419s 209ms/step - loss: 0.3960 - acc: 0.8302 - val_loss: 0.3720 - val_acc: 0.8332\n",
      "Epoch 4/10\n",
      "2000/2000 [==============================] - 403s 201ms/step - loss: 0.3725 - acc: 0.8419 - val_loss: 0.3427 - val_acc: 0.8520\n",
      "Epoch 5/10\n",
      "2000/2000 [==============================] - 444s 222ms/step - loss: 0.3615 - acc: 0.8512 - val_loss: 0.4681 - val_acc: 0.8246\n"
     ]
    }
   ],
   "source": [
    "class Mycallback(keras.callbacks.Callback):\n",
    "    def on_epoch_end(self, epoch, logs={}):\n",
    "        if logs.get('acc') >= 0.85:\n",
    "            self.model.stop_training = True\n",
    "\n",
    "callbacks = Mycallback()\n",
    "history = model.fit_generator(train_generator,\n",
    "                              epochs=10,\n",
    "                              verbose=1,\n",
    "                              validation_data=validation_generator,\n",
    "                             callbacks=[callbacks])"
   ]
  },
  {
   "cell_type": "code",
   "execution_count": 21,
   "metadata": {},
   "outputs": [
    {
     "data": {
      "text/plain": [
       "12500"
      ]
     },
     "execution_count": 21,
     "metadata": {},
     "output_type": "execute_result"
    }
   ],
   "source": [
    "import pandas as pd\n",
    "test_dir = 'C:\\\\Users\\\\jye12\\\\GItBig\\\\tensorflow\\\\CNN\\\\dogs-vs-cats\\\\testing'\n",
    "test_filenames = os.listdir(test_dir+'/test1')\n",
    "test_df = pd.DataFrame({\n",
    "    'filename': test_filenames\n",
    "})\n",
    "nb_samples = test_df.shape[0]\n",
    "nb_samples\n"
   ]
  },
  {
   "cell_type": "code",
   "execution_count": 35,
   "metadata": {},
   "outputs": [
    {
     "name": "stdout",
     "output_type": "stream",
     "text": [
      "Found 12500 images belonging to 1 classes.\n"
     ]
    }
   ],
   "source": [
    "\n",
    "test_datagen = ImageDataGenerator(rescale = 1./255)\n",
    "\n",
    "test_generator = test_datagen.flow_from_directory(test_dir,class_mode=None,\n",
    "                                                  batch_size =10, target_size=(150,150),\n",
    "                                                  shuffle=False) \n"
   ]
  },
  {
   "cell_type": "code",
   "execution_count": 36,
   "metadata": {},
   "outputs": [],
   "source": [
    "predict = model.predict_generator(test_generator, steps=nb_samples/10)"
   ]
  },
  {
   "cell_type": "code",
   "execution_count": 42,
   "metadata": {},
   "outputs": [],
   "source": [
    "import numpy as np\n",
    "test_df['category'] = predict"
   ]
  },
  {
   "cell_type": "code",
   "execution_count": 46,
   "metadata": {},
   "outputs": [],
   "source": [
    "def half(x):\n",
    "    if x >= .5:\n",
    "        x = 'dog'\n",
    "    else:\n",
    "        x = 'cat'\n",
    "    return x"
   ]
  },
  {
   "cell_type": "code",
   "execution_count": 50,
   "metadata": {},
   "outputs": [],
   "source": [
    "# test_df['category'] = test_df['category'].map(half) \n",
    "test_df['category'] = test_df['category'].replace({ 'dog': 1, 'cat': 0 })"
   ]
  },
  {
   "cell_type": "code",
   "execution_count": 51,
   "metadata": {},
   "outputs": [
    {
     "data": {
      "text/plain": [
       "<matplotlib.axes._subplots.AxesSubplot at 0x20a2807d688>"
      ]
     },
     "execution_count": 51,
     "metadata": {},
     "output_type": "execute_result"
    },
    {
     "data": {
      "image/png": "[encoded data removed]",
      "text/plain": [
       "<Figure size 432x288 with 1 Axes>"
      ]
     },
     "metadata": {
      "needs_background": "light"
     },
     "output_type": "display_data"
    }
   ],
   "source": [
    "import matplotlib.pyplot as plt\n",
    "test_df['category'].value_counts().plot.bar()"
   ]
  },
  {
   "cell_type": "code",
   "execution_count": 52,
   "metadata": {},
   "outputs": [],
   "source": [
    "submission_df = test_df.copy()\n",
    "submission_df['id'] = submission_df['filename'].str.split('.').str[0]\n",
    "submission_df['label'] = submission_df['category']\n",
    "submission_df.drop(['filename', 'category'], axis=1, inplace=True)\n",
    "submission_df.to_csv('submission.csv', index=False)"
   ]
  },
  {
   "cell_type": "code",
   "execution_count": null,
   "metadata": {},
   "outputs": [],
   "source": []
  }
 ],
 "metadata": {
  "kernelspec": {
   "display_name": "Python 3",
   "language": "python",
   "name": "python3"
  },
  "language_info": {
   "codemirror_mode": {
    "name": "ipython",
    "version": 3
   },
   "file_extension": ".py",
   "mimetype": "text/x-python",
   "name": "python",
   "nbconvert_exporter": "python",
   "pygments_lexer": "ipython3",
   "version": "3.7.6"
  }
 },
 "nbformat": 4,
 "nbformat_minor": 4
}

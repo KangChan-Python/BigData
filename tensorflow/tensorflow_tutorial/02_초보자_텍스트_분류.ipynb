{
 "cells": [
  {
   "cell_type": "markdown",
   "metadata": {},
   "source": [
    "### 기본 텍스트 분류\n",
    "- 학습목표 : 영화 리뷰 텍스트를 긍정 또는 부정으로 분류하기"
   ]
  },
  {
   "cell_type": "code",
   "execution_count": 1,
   "metadata": {},
   "outputs": [
    {
     "name": "stdout",
     "output_type": "stream",
     "text": [
      "2.1.0\n"
     ]
    }
   ],
   "source": [
    "import tensorflow as tf\n",
    "from tensorflow import keras\n",
    "\n",
    "import numpy as np\n",
    "\n",
    "print(tf.__version__)"
   ]
  },
  {
   "cell_type": "markdown",
   "metadata": {},
   "source": [
    "#### IMDB 데이터셋 다운로드\n",
    "num_words = 10000는 훈련 데이터에서 가장 많이 등장하는 상위 10000개의 단어를 선택함.  \n",
    "데이터 크기를 적당하게 유지하기 위함."
   ]
  },
  {
   "cell_type": "code",
   "execution_count": 2,
   "metadata": {},
   "outputs": [],
   "source": [
    "imdb = keras.datasets.imdb\n",
    "(train_data, train_labels), (test_data, test_labels) = imdb.load_data(num_words = 10000)"
   ]
  },
  {
   "cell_type": "markdown",
   "metadata": {},
   "source": [
    "#### 데이터 탐색\n",
    "이 데이터셋의 샘플은 전처리된 정수 배열임. 정수 자체는 리뷰에 나오는 단어를 나타냄.  \n",
    "라벨은 0(부정)과 1(긍정)이 있음."
   ]
  },
  {
   "cell_type": "code",
   "execution_count": 3,
   "metadata": {},
   "outputs": [
    {
     "name": "stdout",
     "output_type": "stream",
     "text": [
      "훈련 샘플 : 25000, 레이블 : 25000 \n"
     ]
    }
   ],
   "source": [
    "print(\"훈련 샘플 : {}, 레이블 : {} \".format(len(train_data), len(train_labels)))"
   ]
  },
  {
   "cell_type": "markdown",
   "metadata": {},
   "source": [
    "첫 번째 리뷰(데이터)를 확인 해보자.  \n",
    "특정 단어들을 나타내는 정수들로 표현된걸 확인"
   ]
  },
  {
   "cell_type": "code",
   "execution_count": 4,
   "metadata": {},
   "outputs": [
    {
     "name": "stdout",
     "output_type": "stream",
     "text": [
      "[1, 14, 22, 16, 43, 530, 973, 1622, 1385, 65, 458, 4468, 66, 3941, 4, 173, 36, 256, 5, 25, 100, 43, 838, 112, 50, 670, 2, 9, 35, 480, 284, 5, 150, 4, 172, 112, 167, 2, 336, 385, 39, 4, 172, 4536, 1111, 17, 546, 38, 13, 447, 4, 192, 50, 16, 6, 147, 2025, 19, 14, 22, 4, 1920, 4613, 469, 4, 22, 71, 87, 12, 16, 43, 530, 38, 76, 15, 13, 1247, 4, 22, 17, 515, 17, 12, 16, 626, 18, 2, 5, 62, 386, 12, 8, 316, 8, 106, 5, 4, 2223, 5244, 16, 480, 66, 3785, 33, 4, 130, 12, 16, 38, 619, 5, 25, 124, 51, 36, 135, 48, 25, 1415, 33, 6, 22, 12, 215, 28, 77, 52, 5, 14, 407, 16, 82, 2, 8, 4, 107, 117, 5952, 15, 256, 4, 2, 7, 3766, 5, 723, 36, 71, 43, 530, 476, 26, 400, 317, 46, 7, 4, 2, 1029, 13, 104, 88, 4, 381, 15, 297, 98, 32, 2071, 56, 26, 141, 6, 194, 7486, 18, 4, 226, 22, 21, 134, 476, 26, 480, 5, 144, 30, 5535, 18, 51, 36, 28, 224, 92, 25, 104, 4, 226, 65, 16, 38, 1334, 88, 12, 16, 283, 5, 16, 4472, 113, 103, 32, 15, 16, 5345, 19, 178, 32]\n"
     ]
    }
   ],
   "source": [
    "print(train_data[0])"
   ]
  },
  {
   "cell_type": "markdown",
   "metadata": {},
   "source": [
    "영화 리뷰들은 개수 통일이 없음 >> 신경망의 입력은 길이가 같아야 하기 때문에 나중에 이 문제를 해결해야함."
   ]
  },
  {
   "cell_type": "code",
   "execution_count": 5,
   "metadata": {},
   "outputs": [
    {
     "data": {
      "text/plain": [
       "(218, 189)"
      ]
     },
     "execution_count": 5,
     "metadata": {},
     "output_type": "execute_result"
    }
   ],
   "source": [
    "len(train_data[0]) , len(train_data[1])"
   ]
  },
  {
   "cell_type": "markdown",
   "metadata": {},
   "source": [
    "#### 정수를 단어로 다시 변환하기\n",
    "정수를 다시 텍스트로 변환하는 방법이 있다면 유용.  \n",
    "정수와 문자열을 매핑한 딕셔너리를 개체에 질의하는 헬퍼 함수를 만들어보자.\n"
   ]
  },
  {
   "cell_type": "code",
   "execution_count": 6,
   "metadata": {},
   "outputs": [],
   "source": [
    "word_index = imdb.get_word_index()\n",
    "\n",
    "word_index = {k : (v+3) for k,v in word_index.items()}\n",
    "word_index['<PAD>'] = 0\n",
    "word_index['<START>'] = 1\n",
    "word_index['<UNK>'] = 2\n",
    "word_index['<UNUSED>'] = 3\n",
    "\n",
    "reverse_word_index = dict([(value, key) for (key,value) in word_index.items()])\n",
    "\n",
    "def decode_reivew(text):\n",
    "    return ' '.join([reverse_word_index.get(i,'?') for i in text])"
   ]
  },
  {
   "cell_type": "markdown",
   "metadata": {},
   "source": [
    "이제 decode_review를 통해 첫 번째 리뷰 텍스트를 출력해보자"
   ]
  },
  {
   "cell_type": "code",
   "execution_count": 7,
   "metadata": {},
   "outputs": [
    {
     "data": {
      "text/plain": [
       "\"<START> this film was just brilliant casting location scenery story direction everyone's really suited the part they played and you could just imagine being there robert <UNK> is an amazing actor and now the same being director <UNK> father came from the same scottish island as myself so i loved the fact there was a real connection with this film the witty remarks throughout the film were great it was just brilliant so much that i bought the film as soon as it was released for <UNK> and would recommend it to everyone to watch and the fly fishing was amazing really cried at the end it was so sad and you know what they say if you cry at a film it must have been good and this definitely was also <UNK> to the two little boy's that played the <UNK> of norman and paul they were just brilliant children are often left out of the <UNK> list i think because the stars that play them all grown up are such a big profile for the whole film but these children are amazing and should be praised for what they have done don't you think the whole story was so lovely because it was true and was someone's life after all that was shared with us all\""
      ]
     },
     "execution_count": 7,
     "metadata": {},
     "output_type": "execute_result"
    }
   ],
   "source": [
    "decode_reivew(train_data[0])"
   ]
  },
  {
   "cell_type": "markdown",
   "metadata": {},
   "source": [
    "#### 데이터 준비\n",
    "리뷰-정수 배열은 신경망에 주입하기 전에 텐서로 변환되어야 함.  \n",
    "변환 방법에는 몇가지가 있음.  \n",
    "- 원-핫 인코딩(one-hot encoding)은 정수 배열을 0과 1로 이루어진 벡터로 변환함.  \n",
    "    정수를 인덱스로 이용해 크기가 10000인 배열 인덱스에 1을 입력하는 하고 나머지는 0을 입력하는 방식\n",
    "- 정수 배열의 길이가 모두 같도록 패딩(padding)을 추가해 max_length * num_reviews 크기의 정수 텐서를 만듬. 이런 형태의 텐서를 다룰 수 있는 임베딩 층을 신경망의 첫 번째 층으로 사용할 수 있음\n",
    "\n",
    "이 튜토리얼에서는 두 번째 방식을 사용함.  \n",
    "영화 리뷰의길이가 같아야 하므로 pad_sequences 함수를 사용해 길이를 맞추겠음."
   ]
  },
  {
   "cell_type": "code",
   "execution_count": 8,
   "metadata": {},
   "outputs": [],
   "source": [
    "train_data = keras.preprocessing.sequence.pad_sequences(train_data, value = word_index[\"<PAD>\"],\n",
    "                                                       padding = 'post',\n",
    "                                                       maxlen= 256)\n",
    "test_data = keras.preprocessing.sequence.pad_sequences(test_data, value = word_index[\"<PAD>\"],\n",
    "                                                       padding = 'post',\n",
    "                                                       maxlen= 256)\n"
   ]
  },
  {
   "cell_type": "code",
   "execution_count": 9,
   "metadata": {},
   "outputs": [
    {
     "data": {
      "text/plain": [
       "(256, 256)"
      ]
     },
     "execution_count": 9,
     "metadata": {},
     "output_type": "execute_result"
    }
   ],
   "source": [
    "len(train_data[0]), len(train_data[1])"
   ]
  },
  {
   "cell_type": "markdown",
   "metadata": {},
   "source": [
    "패딩된 첫 번째리뷰 내용을 확인해보자"
   ]
  },
  {
   "cell_type": "code",
   "execution_count": 10,
   "metadata": {},
   "outputs": [
    {
     "name": "stdout",
     "output_type": "stream",
     "text": [
      "[   1   14   22   16   43  530  973 1622 1385   65  458 4468   66 3941\n",
      "    4  173   36  256    5   25  100   43  838  112   50  670    2    9\n",
      "   35  480  284    5  150    4  172  112  167    2  336  385   39    4\n",
      "  172 4536 1111   17  546   38   13  447    4  192   50   16    6  147\n",
      " 2025   19   14   22    4 1920 4613  469    4   22   71   87   12   16\n",
      "   43  530   38   76   15   13 1247    4   22   17  515   17   12   16\n",
      "  626   18    2    5   62  386   12    8  316    8  106    5    4 2223\n",
      " 5244   16  480   66 3785   33    4  130   12   16   38  619    5   25\n",
      "  124   51   36  135   48   25 1415   33    6   22   12  215   28   77\n",
      "   52    5   14  407   16   82    2    8    4  107  117 5952   15  256\n",
      "    4    2    7 3766    5  723   36   71   43  530  476   26  400  317\n",
      "   46    7    4    2 1029   13  104   88    4  381   15  297   98   32\n",
      " 2071   56   26  141    6  194 7486   18    4  226   22   21  134  476\n",
      "   26  480    5  144   30 5535   18   51   36   28  224   92   25  104\n",
      "    4  226   65   16   38 1334   88   12   16  283    5   16 4472  113\n",
      "  103   32   15   16 5345   19  178   32    0    0    0    0    0    0\n",
      "    0    0    0    0    0    0    0    0    0    0    0    0    0    0\n",
      "    0    0    0    0    0    0    0    0    0    0    0    0    0    0\n",
      "    0    0    0    0]\n"
     ]
    }
   ],
   "source": [
    "print(train_data[0])"
   ]
  },
  {
   "cell_type": "markdown",
   "metadata": {},
   "source": [
    "#### 모델 구성\n",
    "신경망은 층을 쌓어서 만드. 이 구조에선느 두가지를 결정해야 함.\n",
    "- 모델에서 얼마나 많은 층을 사용할 것인가?\n",
    "- 각 층에서 얼마나 많은 은닉 유닛(hidden unit)을 사용할 것인가?\n",
    "\n",
    "이 예제의 입력 데이터는 단어 인덱스 배열입니다. 예측한 레이블은 0 또는 1입니다. 이 문제에 맞는 모델을 구성해 보겠습니다."
   ]
  },
  {
   "cell_type": "code",
   "execution_count": 18,
   "metadata": {},
   "outputs": [
    {
     "name": "stdout",
     "output_type": "stream",
     "text": [
      "Model: \"sequential_1\"\n",
      "_________________________________________________________________\n",
      "Layer (type)                 Output Shape              Param #   \n",
      "=================================================================\n",
      "embedding_1 (Embedding)      (None, None, 16)          160000    \n",
      "_________________________________________________________________\n",
      "global_average_pooling1d_1 ( (None, 16)                0         \n",
      "_________________________________________________________________\n",
      "dense_2 (Dense)              (None, 16)                272       \n",
      "_________________________________________________________________\n",
      "dense_3 (Dense)              (None, 1)                 17        \n",
      "=================================================================\n",
      "Total params: 160,289\n",
      "Trainable params: 160,289\n",
      "Non-trainable params: 0\n",
      "_________________________________________________________________\n"
     ]
    }
   ],
   "source": [
    "# 입력 크기는 영화 리뷰 데이터셋에 적용된 어휘 사전의 크기임\n",
    "vocab_size = 10000\n",
    "\n",
    "model = keras.Sequential()\n",
    "model.add(keras.layers.Embedding(vocab_size, 16, input_shape=(None,)))\n",
    "model.add(keras.layers.GlobalAveragePooling1D())\n",
    "model.add(keras.layers.Dense(16, activation='relu'))\n",
    "model.add(keras.layers.Dense(1, activation='sigmoid'))\n",
    "\n",
    "model.summary()"
   ]
  },
  {
   "cell_type": "markdown",
   "metadata": {},
   "source": [
    "층을 순서대로 쌓아 분류기를 만듬\n",
    "1. Embedding 층. 이 층은 정수로 인코딩된 단어를 입력 받고 각 단어 인덱스에 해당하는 임베딩 벡터를 찾습니다. 이 벡터는 모델이 훈련되면서 학습됨. 이 벡터는 출력 배열에 새로운 차원이 추가됨. 최종 차원은 (batch, sequence, embedding)이 됨\n",
    "2. GlobalAveragePooling1D 층은 sequence 차원에 대해 평균을 계산하여 각 샘플에 대해 고정된 길이의 출력 벡터를 반환합니다. 이는 길이가 다른 입력을 다루는 가장 간단한 방법임.\n",
    "3. 이 고정 길이의 출력 벡터는 16개의 은닉 유닛을 가진 완전 연결(fully-connected) 층(Dense)을 거침\n",
    "4. 마지막 층은 하나의 출력 노드(node)를 가진 완전 연결층임. sigmoid 활성화 함수를 사용하여 0과 1사이의 실수를 출력함. 이 값은 확률 또는 신뢰도를 나타냄\n",
    "\n",
    "#### 은닉 유닛\n",
    "위 모델에는 입력과 출력 사이에 두 개의 중간 또는 '은닉'층이 있음. 출력(유닛 또는 노드, 뉴런)의 개수는 층이 가진 표현 공간(representational space)의 차원이 됨. = 내부 표현을 학습할 때 허용되는 네트워크 자유도의 양임.\n",
    "\n",
    "모델에 많은 은늑 유닛과 층이 있다면 네트워크는 더 복잡한 표현을 학습할 수 있음. 하지만 네트워크 계산 비용이 많이 들고 원치 않는 패턴을 학습할 수도 있음. 이런 표현은 데이터의 성능을 향상시키지만 테슽 데이터에서는 그렇지 못함. 이를 과대적합이라 함. \n",
    "\n",
    "#### 손실 함수와 옵티마이저\n",
    "이진 분류의 확률을 출력 하므로 binary_crossentropy 손실 함수를 사용  \n",
    "다른 선택 가능한 손실 함수 mean_squared_error가 있지만 binary_crossentropy가 확률을 다루는데 적합. 이 함수는 확률 분포 간의 거리를 측정함. 여기에서는 정답인 타깃 분포와 예측 분포 사이의 거리임\n"
   ]
  },
  {
   "cell_type": "code",
   "execution_count": 19,
   "metadata": {},
   "outputs": [],
   "source": [
    "model.compile(optimizer = 'adam',\n",
    "             loss = 'binary_crossentropy',\n",
    "             metrics=['accuracy'])"
   ]
  },
  {
   "cell_type": "markdown",
   "metadata": {},
   "source": [
    "#### 검증 세트 만들기\n",
    "모델을 훈련할 떄 모델이 만난 적 없는 데이터에서 정확도를 확인하는 것이 좋음.  \n",
    "원본 훈련 데이터에서 10000개의 샘플을 떼어내어 검증 세트(validation set)를 만들겠음.  \n"
   ]
  },
  {
   "cell_type": "code",
   "execution_count": 24,
   "metadata": {},
   "outputs": [],
   "source": [
    "x_val =  train_data[:10000]\n",
    "partial_x_train = train_data[10000:]\n",
    "\n",
    "y_val = train_labels[:10000]\n",
    "partial_y_train = train_labels[10000:]"
   ]
  },
  {
   "cell_type": "markdown",
   "metadata": {},
   "source": [
    "#### 모델 훈련 \n",
    "이 모델을 512개의 샘플로 이루어진 미니배치(mini-batch)에서 40번의 에포크 동안 훈련함.  \n",
    "x_train과 y_train 텐서에 있는 모든 샘플에 대해 40번 반복한다는 뜻. "
   ]
  },
  {
   "cell_type": "code",
   "execution_count": 25,
   "metadata": {},
   "outputs": [
    {
     "name": "stdout",
     "output_type": "stream",
     "text": [
      "Train on 15000 samples, validate on 10000 samples\n",
      "Epoch 1/40\n",
      "15000/15000 [==============================] - 1s 74us/sample - loss: 0.6922 - accuracy: 0.5329 - val_loss: 0.6909 - val_accuracy: 0.5439\n",
      "Epoch 2/40\n",
      "15000/15000 [==============================] - 1s 36us/sample - loss: 0.6877 - accuracy: 0.6685 - val_loss: 0.6843 - val_accuracy: 0.6905\n",
      "Epoch 3/40\n",
      "15000/15000 [==============================] - 1s 35us/sample - loss: 0.6766 - accuracy: 0.7397 - val_loss: 0.6699 - val_accuracy: 0.7269\n",
      "Epoch 4/40\n",
      "15000/15000 [==============================] - 1s 36us/sample - loss: 0.6557 - accuracy: 0.7586 - val_loss: 0.6456 - val_accuracy: 0.7490\n",
      "Epoch 5/40\n",
      "15000/15000 [==============================] - 1s 37us/sample - loss: 0.6232 - accuracy: 0.7821 - val_loss: 0.6099 - val_accuracy: 0.7737\n",
      "Epoch 6/40\n",
      "15000/15000 [==============================] - 1s 40us/sample - loss: 0.5784 - accuracy: 0.8005 - val_loss: 0.5649 - val_accuracy: 0.7961\n",
      "Epoch 7/40\n",
      "15000/15000 [==============================] - 1s 38us/sample - loss: 0.5274 - accuracy: 0.8226 - val_loss: 0.5181 - val_accuracy: 0.8136\n",
      "Epoch 8/40\n",
      "15000/15000 [==============================] - 1s 36us/sample - loss: 0.4767 - accuracy: 0.8423 - val_loss: 0.4740 - val_accuracy: 0.8293\n",
      "Epoch 9/40\n",
      "15000/15000 [==============================] - 1s 37us/sample - loss: 0.4304 - accuracy: 0.8588 - val_loss: 0.4359 - val_accuracy: 0.8432\n",
      "Epoch 10/40\n",
      "15000/15000 [==============================] - 1s 36us/sample - loss: 0.3907 - accuracy: 0.8715 - val_loss: 0.4048 - val_accuracy: 0.8511\n",
      "Epoch 11/40\n",
      "15000/15000 [==============================] - 1s 36us/sample - loss: 0.3574 - accuracy: 0.8815 - val_loss: 0.3799 - val_accuracy: 0.8591\n",
      "Epoch 12/40\n",
      "15000/15000 [==============================] - 1s 38us/sample - loss: 0.3297 - accuracy: 0.8883 - val_loss: 0.3603 - val_accuracy: 0.8645\n",
      "Epoch 13/40\n",
      "15000/15000 [==============================] - 1s 35us/sample - loss: 0.3068 - accuracy: 0.8953 - val_loss: 0.3463 - val_accuracy: 0.8642\n",
      "Epoch 14/40\n",
      "15000/15000 [==============================] - 1s 36us/sample - loss: 0.2869 - accuracy: 0.9017 - val_loss: 0.3330 - val_accuracy: 0.8702\n",
      "Epoch 15/40\n",
      "15000/15000 [==============================] - 1s 36us/sample - loss: 0.2703 - accuracy: 0.9064 - val_loss: 0.3227 - val_accuracy: 0.8740\n",
      "Epoch 16/40\n",
      "15000/15000 [==============================] - 1s 35us/sample - loss: 0.2550 - accuracy: 0.9117 - val_loss: 0.3146 - val_accuracy: 0.8763\n",
      "Epoch 17/40\n",
      "15000/15000 [==============================] - 1s 35us/sample - loss: 0.2413 - accuracy: 0.9170 - val_loss: 0.3075 - val_accuracy: 0.8791\n",
      "Epoch 18/40\n",
      "15000/15000 [==============================] - 1s 36us/sample - loss: 0.2291 - accuracy: 0.9212 - val_loss: 0.3021 - val_accuracy: 0.8804\n",
      "Epoch 19/40\n",
      "15000/15000 [==============================] - 1s 36us/sample - loss: 0.2177 - accuracy: 0.9248 - val_loss: 0.2990 - val_accuracy: 0.8795\n",
      "Epoch 20/40\n",
      "15000/15000 [==============================] - 1s 38us/sample - loss: 0.2084 - accuracy: 0.9275 - val_loss: 0.2942 - val_accuracy: 0.8820\n",
      "Epoch 21/40\n",
      "15000/15000 [==============================] - 1s 36us/sample - loss: 0.1979 - accuracy: 0.9319 - val_loss: 0.2915 - val_accuracy: 0.8829\n",
      "Epoch 22/40\n",
      "15000/15000 [==============================] - 1s 36us/sample - loss: 0.1891 - accuracy: 0.9375 - val_loss: 0.2891 - val_accuracy: 0.8828\n",
      "Epoch 23/40\n",
      "15000/15000 [==============================] - 1s 36us/sample - loss: 0.1808 - accuracy: 0.9401 - val_loss: 0.2876 - val_accuracy: 0.8838\n",
      "Epoch 24/40\n",
      "15000/15000 [==============================] - 1s 36us/sample - loss: 0.1731 - accuracy: 0.9441 - val_loss: 0.2870 - val_accuracy: 0.8842\n",
      "Epoch 25/40\n",
      "15000/15000 [==============================] - 1s 35us/sample - loss: 0.1656 - accuracy: 0.9467 - val_loss: 0.2860 - val_accuracy: 0.8842\n",
      "Epoch 26/40\n",
      "15000/15000 [==============================] - 1s 35us/sample - loss: 0.1591 - accuracy: 0.9495 - val_loss: 0.2859 - val_accuracy: 0.8856\n",
      "Epoch 27/40\n",
      "15000/15000 [==============================] - 1s 36us/sample - loss: 0.1528 - accuracy: 0.9518 - val_loss: 0.2870 - val_accuracy: 0.8834\n",
      "Epoch 28/40\n",
      "15000/15000 [==============================] - 1s 35us/sample - loss: 0.1462 - accuracy: 0.9548 - val_loss: 0.2864 - val_accuracy: 0.8862\n",
      "Epoch 29/40\n",
      "15000/15000 [==============================] - 1s 35us/sample - loss: 0.1402 - accuracy: 0.9576 - val_loss: 0.2874 - val_accuracy: 0.8868\n",
      "Epoch 30/40\n",
      "15000/15000 [==============================] - 1s 37us/sample - loss: 0.1345 - accuracy: 0.9597 - val_loss: 0.2896 - val_accuracy: 0.8844\n",
      "Epoch 31/40\n",
      "15000/15000 [==============================] - 1s 35us/sample - loss: 0.1293 - accuracy: 0.9623 - val_loss: 0.2903 - val_accuracy: 0.8871\n",
      "Epoch 32/40\n",
      "15000/15000 [==============================] - 1s 35us/sample - loss: 0.1244 - accuracy: 0.9625 - val_loss: 0.2947 - val_accuracy: 0.8832\n",
      "Epoch 33/40\n",
      "15000/15000 [==============================] - 1s 36us/sample - loss: 0.1202 - accuracy: 0.9658 - val_loss: 0.2950 - val_accuracy: 0.8841\n",
      "Epoch 34/40\n",
      "15000/15000 [==============================] - 1s 35us/sample - loss: 0.1147 - accuracy: 0.9676 - val_loss: 0.2965 - val_accuracy: 0.8845\n",
      "Epoch 35/40\n",
      "15000/15000 [==============================] - 1s 37us/sample - loss: 0.1106 - accuracy: 0.9694 - val_loss: 0.3001 - val_accuracy: 0.8850\n",
      "Epoch 36/40\n",
      "15000/15000 [==============================] - 1s 35us/sample - loss: 0.1061 - accuracy: 0.9712 - val_loss: 0.3013 - val_accuracy: 0.8842\n",
      "Epoch 37/40\n",
      "15000/15000 [==============================] - 1s 36us/sample - loss: 0.1018 - accuracy: 0.9716 - val_loss: 0.3040 - val_accuracy: 0.8845\n",
      "Epoch 38/40\n",
      "15000/15000 [==============================] - 1s 36us/sample - loss: 0.0976 - accuracy: 0.9741 - val_loss: 0.3071 - val_accuracy: 0.8833\n",
      "Epoch 39/40\n",
      "15000/15000 [==============================] - 1s 36us/sample - loss: 0.0939 - accuracy: 0.9751 - val_loss: 0.3109 - val_accuracy: 0.8832\n",
      "Epoch 40/40\n",
      "15000/15000 [==============================] - 1s 36us/sample - loss: 0.0902 - accuracy: 0.9769 - val_loss: 0.3138 - val_accuracy: 0.8831\n"
     ]
    }
   ],
   "source": [
    "history = model.fit(partial_x_train,\n",
    "                    partial_y_train,\n",
    "                    epochs=40,\n",
    "                    batch_size=512,\n",
    "                    validation_data=(x_val, y_val),\n",
    "                    verbose=1)"
   ]
  },
  {
   "cell_type": "markdown",
   "metadata": {},
   "source": [
    "#### 모델 평가\n",
    "모델으 성능을 확인해 보자.  \n",
    "두 개의 값이 반환됨. 손실(오차를 나타내는 숫자이므로 낮을수록 좋음)과 정확도\n"
   ]
  },
  {
   "cell_type": "code",
   "execution_count": 26,
   "metadata": {},
   "outputs": [
    {
     "name": "stdout",
     "output_type": "stream",
     "text": [
      "25000/25000 - 1s - loss: 0.3340 - accuracy: 0.8722\n",
      "[0.33401488532543183, 0.87216]\n"
     ]
    }
   ],
   "source": [
    "results =model.evaluate(test_data, test_labels , verbose=2)\n",
    "\n",
    "print(results)"
   ]
  },
  {
   "cell_type": "markdown",
   "metadata": {},
   "source": [
    "#### 정확도와 손실 그래프 그리기\n",
    "model.fit()은 History 객체를 반환함. 여기에는 훈련한느 동안 일어난 모든 정보가 담긴 딕셔너리가 들어있음."
   ]
  },
  {
   "cell_type": "code",
   "execution_count": 27,
   "metadata": {},
   "outputs": [
    {
     "data": {
      "text/plain": [
       "dict_keys(['loss', 'accuracy', 'val_loss', 'val_accuracy'])"
      ]
     },
     "execution_count": 27,
     "metadata": {},
     "output_type": "execute_result"
    }
   ],
   "source": [
    "history_dict = history.history\n",
    "history_dict.keys()"
   ]
  },
  {
   "cell_type": "markdown",
   "metadata": {},
   "source": [
    "네 개의 항목이 있음. 훈련과 검증 단계에서 모니터링하는 지표들임.  \n",
    "훈련 손실과 검증 손실을 그래프로 그려 보고, 훈련 정확도와 검증 정확도도 그래프로 그려서 비교해 봄."
   ]
  },
  {
   "cell_type": "code",
   "execution_count": 28,
   "metadata": {},
   "outputs": [
    {
     "data": {
      "image/png": "[encoded data removed]",
      "text/plain": [
       "<Figure size 432x288 with 1 Axes>"
      ]
     },
     "metadata": {
      "needs_background": "light"
     },
     "output_type": "display_data"
    }
   ],
   "source": [
    "import matplotlib.pyplot as plt\n",
    "\n",
    "acc = history_dict['accuracy']\n",
    "val_acc = history_dict['val_accuracy']\n",
    "loss= history_dict['loss']\n",
    "val_loss = history_dict['val_loss']\n",
    "\n",
    "epochs = range(1, len(acc) + 1)\n",
    "\n",
    "# \"bo\"는 \"파란색 점\"입니다.\n",
    "plt.plot(epochs, loss, \"bo\", label = 'Training loss')\n",
    "# b는 \"파란 실선\"입니다.\n",
    "plt.plot(epochs, val_loss, 'b', label = 'Validation loss')\n",
    "plt.title('Training and validation loss')\n",
    "plt.xlabel('Epochs')\n",
    "plt.ylabel('Loss')\n",
    "plt.legend()\n",
    "\n",
    "plt.show()"
   ]
  },
  {
   "cell_type": "code",
   "execution_count": 29,
   "metadata": {},
   "outputs": [
    {
     "data": {
      "image/png": "[encoded data removed]",
      "text/plain": [
       "<Figure size 432x288 with 1 Axes>"
      ]
     },
     "metadata": {
      "needs_background": "light"
     },
     "output_type": "display_data"
    }
   ],
   "source": [
    "plt.clf() # 그림을 초기화\n",
    "\n",
    "plt.plot(epochs, acc, 'bo', label= 'Training acc')\n",
    "plt.plot(epochs, val_acc, 'b' , label= 'Validation acc')\n",
    "plt.title('Training and validation accuracy')\n",
    "plt.xlabel('Epochs')\n",
    "plt.ylabel(\"Accuracy\")\n",
    "plt.legend()\n",
    "\n",
    "plt.show()"
   ]
  },
  {
   "cell_type": "markdown",
   "metadata": {},
   "source": [
    "점선은 훈련 손실과 훈련 정확도  \n",
    "실선은 검증 손실과 검증 정확도  \n",
    "\n",
    "훈련 손실은 에포크마다 감소하고 훈련 정확도는 증가한다는 것을 주목.  \n",
    "경사 하강법 최적화를 사용할 때 볼 수 있는 현상.  \n",
    "매 반복마다 최적화 대상의 값을 최소화함.  \n",
    "\n",
    "검증 손실은 약 20번째 에포크 이후가 최적점으로 추정. 이는 과대적합 때문. \n",
    "\n",
    "여기에서는 과대적합을 막기 위해 단순히 20번째 에포크 근처에서 훈련을 멈출 수 있음.\n",
    "나중에 콜백(callback)을 사용하여 자동으로 이렇게 하는 방법을 배워 보겠음."
   ]
  },
  {
   "cell_type": "code",
   "execution_count": null,
   "metadata": {},
   "outputs": [],
   "source": []
  }
 ],
 "metadata": {
  "kernelspec": {
   "display_name": "Python 3",
   "language": "python",
   "name": "python3"
  },
  "language_info": {
   "codemirror_mode": {
    "name": "ipython",
    "version": 3
   },
   "file_extension": ".py",
   "mimetype": "text/x-python",
   "name": "python",
   "nbconvert_exporter": "python",
   "pygments_lexer": "ipython3",
   "version": "3.7.6"
  }
 },
 "nbformat": 4,
 "nbformat_minor": 4
}

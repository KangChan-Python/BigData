{
 "cells": [
  {
   "cell_type": "code",
   "execution_count": 1,
   "metadata": {},
   "outputs": [
    {
     "name": "stdout",
     "output_type": "stream",
     "text": [
      "2.1.0\n"
     ]
    }
   ],
   "source": [
    "import tensorflow as tf\n",
    "from tensorflow import keras\n",
    "\n",
    "import numpy as np\n",
    "\n",
    "print(tf.__version__)"
   ]
  },
  {
   "cell_type": "code",
   "execution_count": null,
   "metadata": {},
   "outputs": [],
   "source": []
  },
  {
   "cell_type": "markdown",
   "metadata": {},
   "source": [
    "### 과대적합과 과소적합\n",
    "\n",
    "과대적합 : 검증 세트에서 모델 성능이 최고점에 도달한 다음 감소하는 경우 >> 모델이 훈련 세트에 과대적합한 것  \n",
    "우리가 진짜 원하는 것은 테스트 세트에 잘 일반화 되는 모델임.\n",
    "\n",
    "과소적합 : 모델의 성능이 향상될 여지가 아직 있을 때 일어남.  \n",
    "모델이 너무 단순하거나, 규제가 너무 많거나, 그냥 단순히 충분히 오래 훈련하지 않는 경우.  \n",
    "즉 네트워크가 훈련 세트에서 적절한 패턴을 학습하지 못했다는 뜻.\n",
    "\n",
    "과대적합을 막는 가장 좋은 방법은 더 많은 훈련 데이터를 사용하는 것.  \n",
    "데이터를 더 준비할 수 없을 때 규제와 드롭아웃을 사용\n"
   ]
  },
  {
   "cell_type": "markdown",
   "metadata": {},
   "source": [
    "#### IMDB 데이터셋 다운로드\n",
    "이전 노트북에서처럼 임베딩을 사용하지 않고 여기에서는 문장을 멀티-핫 인코딩으로 변환함.  \n",
    "이 모델은 훈련 세트에서 빠르게 과대적합될 것임. \n",
    "\n",
    "멀티-핫 인코딩은 정수 시퀀스를 0과1로 이루어진 벡터로 변환함. 정확하게 말하면 시퀀스 [3,5]를 인덱스 3과 5만 1이고 나머지는 모두 0인 10000 차원 백터로 변환한다는 의미임."
   ]
  },
  {
   "cell_type": "code",
   "execution_count": 4,
   "metadata": {},
   "outputs": [],
   "source": [
    "NUM_WORDS = 1000\n",
    "(train_data , train_labels) , (test_data, test_labels) = keras.datasets.imdb.load_data(num_words= NUM_WORDS)"
   ]
  },
  {
   "cell_type": "code",
   "execution_count": 5,
   "metadata": {},
   "outputs": [],
   "source": [
    "def multi_hot_sequences(sequences, dimension):\n",
    "    # 0으로 채워진 (len(sequences), dimension) 크기의 행렬을 만듬\n",
    "    results = np.zeros((len(sequences), dimension))\n",
    "    for i, word_indices in enumerate(sequences):\n",
    "        results[i, word_indices] = 1.0 # results[i]의 특성 인덱스만 1로 설정\n",
    "    return results\n",
    "\n",
    "train_data = multi_hot_sequences(train_data, dimension=NUM_WORDS)\n",
    "test_data = multi_hot_sequences(test_data, dimension=NUM_WORDS)"
   ]
  },
  {
   "cell_type": "markdown",
   "metadata": {},
   "source": [
    "만들어진 멀티-핫 벡터 중 하나를 살펴 보자. 단어 인덱스는 빈도 순으로 정렬되어 있음. 그래프에서 볼 수 있듯이 인덱스 0에 가까울수록 1이 많이 등장함."
   ]
  },
  {
   "cell_type": "code",
   "execution_count": 7,
   "metadata": {},
   "outputs": [],
   "source": [
    "import matplotlib.pyplot as plt"
   ]
  },
  {
   "cell_type": "code",
   "execution_count": 8,
   "metadata": {},
   "outputs": [
    {
     "data": {
      "text/plain": [
       "[<matplotlib.lines.Line2D at 0x1c5f69a97c8>]"
      ]
     },
     "execution_count": 8,
     "metadata": {},
     "output_type": "execute_result"
    },
    {
     "data": {
      "image/png": "[encoded data removed]",
      "text/plain": [
       "<Figure size 432x288 with 1 Axes>"
      ]
     },
     "metadata": {
      "needs_background": "light"
     },
     "output_type": "display_data"
    }
   ],
   "source": [
    "plt.plot(train_data[0])"
   ]
  },
  {
   "cell_type": "markdown",
   "metadata": {},
   "source": [
    "#### 과대적합 예제\n",
    "\n",
    "과대적합을 막는 가장 간단한 방법은 모델의 규모를 축소하는 것. 즉, 모델이 있는 학습 가능한 파라미터의 수를 줄임.  \n",
    "딥러닝에서는 모델의 학습 가능한 파라미터의 수를 종종 모델의 '용량'이라고 말함. 직관적으로 생각해보면 많은 파라미터를 가진 모델이 더 많은 '기억 용량'을 가짐.  \n",
    "이런 모델은 훈련 샘플과 타깃 사이를 일반화 능력이 없는 딕셔너리와 같은 매핑으로 완벽하게 학슴할 수 있음. 하지만 이전에는 본 적 없는 데이터에서 예측을 할 땐 쓸모가 없을 것임.\n",
    "\n",
    "항상 기억해야할 점 : 딥러닝 모델이 훈련 세트에서는 학습이 잘 되는 경향이 있지만 진짜 잘 해결할 문제는 학습이 아니라 일반화라는 것임\n",
    "    \n",
    "반면에 네트워크의 기억 용량이 부족하다면 이런 매핑을 쉽게 학습할 수 없을 것. 손실을 최소화하기 위해서는 예측 성능이 더 많은 압축된 표현을 학습해야 함. 또한 너무 작은 모델을  만들면 훈련 데이터를 학습하기 어려울 것임. '너무 많은 용량'과 충분하지 않은 용량' 사이의 균형을 잡아야 함.\n",
    "\n",
    "안타깝게도, 어떤 모델의 적절한 크기나 구조를 결정하는 마법같은 공식은 X. 여러 가지 다른 구조를 사용해 실험을 해볼 것.\n",
    "\n",
    "알맞은 모델의 크기를 찾으려면 비교적 적은 수의 층과 파라미터로 시작해서 검증 손실이 감소할 때까지 새로운 층을 추가하거나 층의 크기를 늘리는 것이 좋음.\n",
    "\n",
    "영화 리뷰 분류 네트워크를 사용해 이를 실험해 보자.\n",
    "\n",
    "Dense 층만 사용하는 간단한 기준 모델을 만들고 작은 규모의 버전과 큰 버전의 모델을 만들어 비교하겠음.\n",
    "\n",
    "#### 기준 모델 만들기\n"
   ]
  },
  {
   "cell_type": "code",
   "execution_count": 9,
   "metadata": {},
   "outputs": [
    {
     "name": "stdout",
     "output_type": "stream",
     "text": [
      "Model: \"sequential\"\n",
      "_________________________________________________________________\n",
      "Layer (type)                 Output Shape              Param #   \n",
      "=================================================================\n",
      "dense (Dense)                (None, 16)                16016     \n",
      "_________________________________________________________________\n",
      "dense_1 (Dense)              (None, 16)                272       \n",
      "_________________________________________________________________\n",
      "dense_2 (Dense)              (None, 1)                 17        \n",
      "=================================================================\n",
      "Total params: 16,305\n",
      "Trainable params: 16,305\n",
      "Non-trainable params: 0\n",
      "_________________________________________________________________\n"
     ]
    }
   ],
   "source": [
    "baseline_model = keras.Sequential([\n",
    "    keras.layers.Dense(16, activation='relu', input_shape= (NUM_WORDS,)),\n",
    "    keras.layers.Dense(16, activation='relu'),\n",
    "    keras.layers.Dense(1, activation='sigmoid')\n",
    "])\n",
    "\n",
    "baseline_model.compile(optimizer ='adam',\n",
    "                      loss = 'binary_crossentropy',\n",
    "                      metrics =['accuracy', 'binary_crossentropy'])\n",
    "\n",
    "baseline_model.summary()"
   ]
  },
  {
   "cell_type": "code",
   "execution_count": 10,
   "metadata": {},
   "outputs": [
    {
     "name": "stdout",
     "output_type": "stream",
     "text": [
      "Train on 25000 samples, validate on 25000 samples\n",
      "Epoch 1/20\n",
      "25000/25000 - 1s - loss: 0.5808 - accuracy: 0.7001 - binary_crossentropy: 0.5808 - val_loss: 0.4341 - val_accuracy: 0.8193 - val_binary_crossentropy: 0.4341\n",
      "Epoch 2/20\n",
      "25000/25000 - 0s - loss: 0.3690 - accuracy: 0.8443 - binary_crossentropy: 0.3690 - val_loss: 0.3443 - val_accuracy: 0.8539 - val_binary_crossentropy: 0.3443\n",
      "Epoch 3/20\n",
      "25000/25000 - 0s - loss: 0.3201 - accuracy: 0.8667 - binary_crossentropy: 0.3201 - val_loss: 0.3303 - val_accuracy: 0.8599 - val_binary_crossentropy: 0.3303\n",
      "Epoch 4/20\n",
      "25000/25000 - 1s - loss: 0.3060 - accuracy: 0.8741 - binary_crossentropy: 0.3060 - val_loss: 0.3280 - val_accuracy: 0.8602 - val_binary_crossentropy: 0.3280\n",
      "Epoch 5/20\n",
      "25000/25000 - 1s - loss: 0.2998 - accuracy: 0.8762 - binary_crossentropy: 0.2998 - val_loss: 0.3297 - val_accuracy: 0.8597 - val_binary_crossentropy: 0.3297\n",
      "Epoch 6/20\n",
      "25000/25000 - 1s - loss: 0.2942 - accuracy: 0.8790 - binary_crossentropy: 0.2942 - val_loss: 0.3307 - val_accuracy: 0.8599 - val_binary_crossentropy: 0.3307\n",
      "Epoch 7/20\n",
      "25000/25000 - 1s - loss: 0.2905 - accuracy: 0.8810 - binary_crossentropy: 0.2905 - val_loss: 0.3316 - val_accuracy: 0.8583 - val_binary_crossentropy: 0.3316\n",
      "Epoch 8/20\n",
      "25000/25000 - 1s - loss: 0.2857 - accuracy: 0.8834 - binary_crossentropy: 0.2857 - val_loss: 0.3336 - val_accuracy: 0.8580 - val_binary_crossentropy: 0.3336\n",
      "Epoch 9/20\n",
      "25000/25000 - 1s - loss: 0.2781 - accuracy: 0.8869 - binary_crossentropy: 0.2781 - val_loss: 0.3339 - val_accuracy: 0.8575 - val_binary_crossentropy: 0.3339\n",
      "Epoch 10/20\n",
      "25000/25000 - 1s - loss: 0.2714 - accuracy: 0.8900 - binary_crossentropy: 0.2714 - val_loss: 0.3366 - val_accuracy: 0.8578 - val_binary_crossentropy: 0.3366\n",
      "Epoch 11/20\n",
      "25000/25000 - 1s - loss: 0.2638 - accuracy: 0.8927 - binary_crossentropy: 0.2638 - val_loss: 0.3421 - val_accuracy: 0.8541 - val_binary_crossentropy: 0.3421\n",
      "Epoch 12/20\n",
      "25000/25000 - 1s - loss: 0.2561 - accuracy: 0.8968 - binary_crossentropy: 0.2561 - val_loss: 0.3427 - val_accuracy: 0.8536 - val_binary_crossentropy: 0.3427\n",
      "Epoch 13/20\n",
      "25000/25000 - 1s - loss: 0.2481 - accuracy: 0.8990 - binary_crossentropy: 0.2481 - val_loss: 0.3483 - val_accuracy: 0.8521 - val_binary_crossentropy: 0.3483\n",
      "Epoch 14/20\n",
      "25000/25000 - 1s - loss: 0.2398 - accuracy: 0.9045 - binary_crossentropy: 0.2398 - val_loss: 0.3524 - val_accuracy: 0.8502 - val_binary_crossentropy: 0.3524\n",
      "Epoch 15/20\n",
      "25000/25000 - 1s - loss: 0.2308 - accuracy: 0.9091 - binary_crossentropy: 0.2308 - val_loss: 0.3599 - val_accuracy: 0.8489 - val_binary_crossentropy: 0.3599\n",
      "Epoch 16/20\n",
      "25000/25000 - 1s - loss: 0.2228 - accuracy: 0.9122 - binary_crossentropy: 0.2228 - val_loss: 0.3663 - val_accuracy: 0.8475 - val_binary_crossentropy: 0.3663\n",
      "Epoch 17/20\n",
      "25000/25000 - 1s - loss: 0.2156 - accuracy: 0.9144 - binary_crossentropy: 0.2156 - val_loss: 0.3733 - val_accuracy: 0.8472 - val_binary_crossentropy: 0.3733\n",
      "Epoch 18/20\n",
      "25000/25000 - 1s - loss: 0.2085 - accuracy: 0.9178 - binary_crossentropy: 0.2085 - val_loss: 0.3873 - val_accuracy: 0.8445 - val_binary_crossentropy: 0.3873\n",
      "Epoch 19/20\n",
      "25000/25000 - 1s - loss: 0.2028 - accuracy: 0.9206 - binary_crossentropy: 0.2028 - val_loss: 0.3949 - val_accuracy: 0.8444 - val_binary_crossentropy: 0.3949\n",
      "Epoch 20/20\n",
      "25000/25000 - 1s - loss: 0.1999 - accuracy: 0.9217 - binary_crossentropy: 0.1999 - val_loss: 0.3930 - val_accuracy: 0.8430 - val_binary_crossentropy: 0.3930\n"
     ]
    }
   ],
   "source": [
    "baseline_history = baseline_model.fit(train_data,\n",
    "                                     train_labels,\n",
    "                                     epochs=20,\n",
    "                                     batch_size= 512,\n",
    "                                     validation_data = (test_data,test_labels),\n",
    "                                     verbose=2)"
   ]
  },
  {
   "cell_type": "markdown",
   "metadata": {},
   "source": [
    "#### 작은 모델 만들기\n",
    "앞서 만든 기준 모델과 비교하기 위해 적은 수의 은닉 유닛을 가진 모델을 만들어 보자.\n"
   ]
  },
  {
   "cell_type": "code",
   "execution_count": 12,
   "metadata": {},
   "outputs": [
    {
     "name": "stdout",
     "output_type": "stream",
     "text": [
      "Model: \"sequential_1\"\n",
      "_________________________________________________________________\n",
      "Layer (type)                 Output Shape              Param #   \n",
      "=================================================================\n",
      "dense_4 (Dense)              (None, 4)                 4004      \n",
      "_________________________________________________________________\n",
      "dense_5 (Dense)              (None, 4)                 20        \n",
      "_________________________________________________________________\n",
      "dense_6 (Dense)              (None, 1)                 5         \n",
      "=================================================================\n",
      "Total params: 4,029\n",
      "Trainable params: 4,029\n",
      "Non-trainable params: 0\n",
      "_________________________________________________________________\n"
     ]
    }
   ],
   "source": [
    "smaller_model = keras.Sequential([\n",
    "    keras.layers.Dense(4, activation ='relu', input_shape =(NUM_WORDS,)),\n",
    "    keras.layers.Dense(4, activation ='relu'),\n",
    "    keras.layers.Dense(1, activation ='sigmoid')\n",
    "    \n",
    "])\n",
    "\n",
    "smaller_model.compile(optimizer='adam',\n",
    "                     loss='binary_crossentropy',\n",
    "                     metrics =['accuracy', 'binary_crossentropy'])\n",
    "\n",
    "smaller_model.summary()"
   ]
  },
  {
   "cell_type": "markdown",
   "metadata": {},
   "source": [
    "같은 데이터를 사용해 이 모델을 훈련함."
   ]
  },
  {
   "cell_type": "code",
   "execution_count": 13,
   "metadata": {},
   "outputs": [
    {
     "name": "stdout",
     "output_type": "stream",
     "text": [
      "Train on 25000 samples, validate on 25000 samples\n",
      "Epoch 1/20\n",
      "25000/25000 - 1s - loss: 0.6632 - accuracy: 0.6052 - binary_crossentropy: 0.6632 - val_loss: 0.6248 - val_accuracy: 0.6599 - val_binary_crossentropy: 0.6248\n",
      "Epoch 2/20\n",
      "25000/25000 - 1s - loss: 0.5844 - accuracy: 0.7279 - binary_crossentropy: 0.5844 - val_loss: 0.5546 - val_accuracy: 0.7850 - val_binary_crossentropy: 0.5546\n",
      "Epoch 3/20\n",
      "25000/25000 - 1s - loss: 0.5278 - accuracy: 0.8127 - binary_crossentropy: 0.5278 - val_loss: 0.5157 - val_accuracy: 0.8301 - val_binary_crossentropy: 0.5157\n",
      "Epoch 4/20\n",
      "25000/25000 - 1s - loss: 0.4945 - accuracy: 0.8391 - binary_crossentropy: 0.4945 - val_loss: 0.4908 - val_accuracy: 0.8413 - val_binary_crossentropy: 0.4908\n",
      "Epoch 5/20\n",
      "25000/25000 - 1s - loss: 0.4698 - accuracy: 0.8549 - binary_crossentropy: 0.4698 - val_loss: 0.4749 - val_accuracy: 0.8476 - val_binary_crossentropy: 0.4749\n",
      "Epoch 6/20\n",
      "25000/25000 - 1s - loss: 0.4523 - accuracy: 0.8664 - binary_crossentropy: 0.4523 - val_loss: 0.4634 - val_accuracy: 0.8510 - val_binary_crossentropy: 0.4634\n",
      "Epoch 7/20\n",
      "25000/25000 - 1s - loss: 0.4384 - accuracy: 0.8723 - binary_crossentropy: 0.4384 - val_loss: 0.4547 - val_accuracy: 0.8528 - val_binary_crossentropy: 0.4547\n",
      "Epoch 8/20\n",
      "25000/25000 - 1s - loss: 0.4268 - accuracy: 0.8759 - binary_crossentropy: 0.4268 - val_loss: 0.4466 - val_accuracy: 0.8550 - val_binary_crossentropy: 0.4466\n",
      "Epoch 9/20\n",
      "25000/25000 - 1s - loss: 0.4169 - accuracy: 0.8774 - binary_crossentropy: 0.4169 - val_loss: 0.4407 - val_accuracy: 0.8567 - val_binary_crossentropy: 0.4407\n",
      "Epoch 10/20\n",
      "25000/25000 - 1s - loss: 0.4081 - accuracy: 0.8800 - binary_crossentropy: 0.4081 - val_loss: 0.4362 - val_accuracy: 0.8555 - val_binary_crossentropy: 0.4362\n",
      "Epoch 11/20\n",
      "25000/25000 - 1s - loss: 0.4000 - accuracy: 0.8827 - binary_crossentropy: 0.4000 - val_loss: 0.4340 - val_accuracy: 0.8535 - val_binary_crossentropy: 0.4340\n",
      "Epoch 12/20\n",
      "25000/25000 - 1s - loss: 0.3935 - accuracy: 0.8826 - binary_crossentropy: 0.3935 - val_loss: 0.4275 - val_accuracy: 0.8552 - val_binary_crossentropy: 0.4275\n",
      "Epoch 13/20\n",
      "25000/25000 - 1s - loss: 0.3871 - accuracy: 0.8838 - binary_crossentropy: 0.3871 - val_loss: 0.4238 - val_accuracy: 0.8545 - val_binary_crossentropy: 0.4238\n",
      "Epoch 14/20\n",
      "25000/25000 - 1s - loss: 0.3798 - accuracy: 0.8848 - binary_crossentropy: 0.3798 - val_loss: 0.4189 - val_accuracy: 0.8553 - val_binary_crossentropy: 0.4189\n",
      "Epoch 15/20\n",
      "25000/25000 - 0s - loss: 0.3738 - accuracy: 0.8862 - binary_crossentropy: 0.3738 - val_loss: 0.4175 - val_accuracy: 0.8545 - val_binary_crossentropy: 0.4175\n",
      "Epoch 16/20\n",
      "25000/25000 - 1s - loss: 0.3688 - accuracy: 0.8869 - binary_crossentropy: 0.3688 - val_loss: 0.4136 - val_accuracy: 0.8546 - val_binary_crossentropy: 0.4136\n",
      "Epoch 17/20\n",
      "25000/25000 - 1s - loss: 0.3631 - accuracy: 0.8879 - binary_crossentropy: 0.3631 - val_loss: 0.4113 - val_accuracy: 0.8544 - val_binary_crossentropy: 0.4113\n",
      "Epoch 18/20\n",
      "25000/25000 - 1s - loss: 0.3586 - accuracy: 0.8890 - binary_crossentropy: 0.3586 - val_loss: 0.4080 - val_accuracy: 0.8550 - val_binary_crossentropy: 0.4080\n",
      "Epoch 19/20\n",
      "25000/25000 - 1s - loss: 0.3534 - accuracy: 0.8889 - binary_crossentropy: 0.3534 - val_loss: 0.4069 - val_accuracy: 0.8535 - val_binary_crossentropy: 0.4069\n",
      "Epoch 20/20\n",
      "25000/25000 - 0s - loss: 0.3497 - accuracy: 0.8903 - binary_crossentropy: 0.3497 - val_loss: 0.4046 - val_accuracy: 0.8537 - val_binary_crossentropy: 0.4046\n"
     ]
    }
   ],
   "source": [
    "smaller_histroy = smaller_model.fit(train_data,\n",
    "                                   train_labels,\n",
    "                                   epochs= 20,\n",
    "                                   batch_size =512,\n",
    "                                   validation_data = (test_data,test_labels),\n",
    "                                   verbose =2)"
   ]
  },
  {
   "cell_type": "markdown",
   "metadata": {},
   "source": [
    "#### 큰 모델 만들기\n",
    "아주 큰 모델을 만들어 얼마나 빠르게 과대적합이 시작되는지 알아 볼 수 있음. 이 문제에 필요한 것보다 훨씬 더 큰 용량을 가진 네트워크를 추가해서 비교해 보자."
   ]
  },
  {
   "cell_type": "code",
   "execution_count": 15,
   "metadata": {},
   "outputs": [
    {
     "name": "stdout",
     "output_type": "stream",
     "text": [
      "Model: \"sequential_3\"\n",
      "_________________________________________________________________\n",
      "Layer (type)                 Output Shape              Param #   \n",
      "=================================================================\n",
      "dense_10 (Dense)             (None, 512)               512512    \n",
      "_________________________________________________________________\n",
      "dense_11 (Dense)             (None, 512)               262656    \n",
      "_________________________________________________________________\n",
      "dense_12 (Dense)             (None, 1)                 513       \n",
      "=================================================================\n",
      "Total params: 775,681\n",
      "Trainable params: 775,681\n",
      "Non-trainable params: 0\n",
      "_________________________________________________________________\n"
     ]
    }
   ],
   "source": [
    "bigger_model = keras.models.Sequential([\n",
    "    keras.layers.Dense(512, activation ='relu', input_shape = (NUM_WORDS,)),\n",
    "    keras.layers.Dense(512, activation ='relu'),\n",
    "    keras.layers.Dense(1, activation= 'sigmoid')])\n",
    "\n",
    "bigger_model.compile(optimizer ='adam',\n",
    "                    loss='binary_crossentropy',\n",
    "                    metrics = ['accuracy', 'binary_crossentropy'])\n",
    "\n",
    "bigger_model.summary()"
   ]
  },
  {
   "cell_type": "markdown",
   "metadata": {},
   "source": [
    "역시 같은 데이터를 사용해 모델을 훈련함"
   ]
  },
  {
   "cell_type": "code",
   "execution_count": 17,
   "metadata": {},
   "outputs": [
    {
     "name": "stdout",
     "output_type": "stream",
     "text": [
      "Train on 25000 samples, validate on 25000 samples\n",
      "Epoch 1/20\n",
      "25000/25000 - 3s - loss: 0.4150 - accuracy: 0.8111 - binary_crossentropy: 0.4150 - val_loss: 0.3395 - val_accuracy: 0.8556 - val_binary_crossentropy: 0.3395\n",
      "Epoch 2/20\n",
      "25000/25000 - 2s - loss: 0.2891 - accuracy: 0.8782 - binary_crossentropy: 0.2891 - val_loss: 0.3261 - val_accuracy: 0.8567 - val_binary_crossentropy: 0.3261\n",
      "Epoch 3/20\n",
      "25000/25000 - 2s - loss: 0.2266 - accuracy: 0.9102 - binary_crossentropy: 0.2266 - val_loss: 0.3481 - val_accuracy: 0.8532 - val_binary_crossentropy: 0.3481\n",
      "Epoch 4/20\n",
      "25000/25000 - 3s - loss: 0.1094 - accuracy: 0.9656 - binary_crossentropy: 0.1094 - val_loss: 0.4392 - val_accuracy: 0.8441 - val_binary_crossentropy: 0.4392\n",
      "Epoch 5/20\n",
      "25000/25000 - 2s - loss: 0.0268 - accuracy: 0.9951 - binary_crossentropy: 0.0268 - val_loss: 0.5395 - val_accuracy: 0.8512 - val_binary_crossentropy: 0.5395\n",
      "Epoch 6/20\n",
      "25000/25000 - 2s - loss: 0.0063 - accuracy: 0.9996 - binary_crossentropy: 0.0063 - val_loss: 0.6323 - val_accuracy: 0.8508 - val_binary_crossentropy: 0.6323\n",
      "Epoch 7/20\n",
      "25000/25000 - 3s - loss: 0.0014 - accuracy: 1.0000 - binary_crossentropy: 0.0014 - val_loss: 0.6717 - val_accuracy: 0.8520 - val_binary_crossentropy: 0.6717\n",
      "Epoch 8/20\n",
      "25000/25000 - 3s - loss: 6.8813e-04 - accuracy: 1.0000 - binary_crossentropy: 6.8813e-04 - val_loss: 0.7025 - val_accuracy: 0.8527 - val_binary_crossentropy: 0.7025\n",
      "Epoch 9/20\n",
      "25000/25000 - 2s - loss: 4.8141e-04 - accuracy: 1.0000 - binary_crossentropy: 4.8141e-04 - val_loss: 0.7241 - val_accuracy: 0.8524 - val_binary_crossentropy: 0.7241\n",
      "Epoch 10/20\n",
      "25000/25000 - 3s - loss: 3.5964e-04 - accuracy: 1.0000 - binary_crossentropy: 3.5964e-04 - val_loss: 0.7454 - val_accuracy: 0.8529 - val_binary_crossentropy: 0.7454\n",
      "Epoch 11/20\n",
      "25000/25000 - 3s - loss: 2.7492e-04 - accuracy: 1.0000 - binary_crossentropy: 2.7492e-04 - val_loss: 0.7670 - val_accuracy: 0.8523 - val_binary_crossentropy: 0.7670\n",
      "Epoch 12/20\n",
      "25000/25000 - 2s - loss: 2.1065e-04 - accuracy: 1.0000 - binary_crossentropy: 2.1065e-04 - val_loss: 0.7882 - val_accuracy: 0.8524 - val_binary_crossentropy: 0.7882\n",
      "Epoch 13/20\n",
      "25000/25000 - 2s - loss: 1.6256e-04 - accuracy: 1.0000 - binary_crossentropy: 1.6256e-04 - val_loss: 0.8089 - val_accuracy: 0.8530 - val_binary_crossentropy: 0.8089\n",
      "Epoch 14/20\n",
      "25000/25000 - 2s - loss: 1.2707e-04 - accuracy: 1.0000 - binary_crossentropy: 1.2707e-04 - val_loss: 0.8292 - val_accuracy: 0.8526 - val_binary_crossentropy: 0.8292\n",
      "Epoch 15/20\n",
      "25000/25000 - 3s - loss: 1.0033e-04 - accuracy: 1.0000 - binary_crossentropy: 1.0033e-04 - val_loss: 0.8480 - val_accuracy: 0.8526 - val_binary_crossentropy: 0.8480\n",
      "Epoch 16/20\n",
      "25000/25000 - 3s - loss: 8.0734e-05 - accuracy: 1.0000 - binary_crossentropy: 8.0734e-05 - val_loss: 0.8654 - val_accuracy: 0.8528 - val_binary_crossentropy: 0.8654\n",
      "Epoch 17/20\n",
      "25000/25000 - 2s - loss: 6.5903e-05 - accuracy: 1.0000 - binary_crossentropy: 6.5903e-05 - val_loss: 0.8819 - val_accuracy: 0.8526 - val_binary_crossentropy: 0.8819\n",
      "Epoch 18/20\n",
      "25000/25000 - 2s - loss: 5.4458e-05 - accuracy: 1.0000 - binary_crossentropy: 5.4458e-05 - val_loss: 0.8974 - val_accuracy: 0.8525 - val_binary_crossentropy: 0.8974\n",
      "Epoch 19/20\n",
      "25000/25000 - 2s - loss: 4.5708e-05 - accuracy: 1.0000 - binary_crossentropy: 4.5708e-05 - val_loss: 0.9117 - val_accuracy: 0.8530 - val_binary_crossentropy: 0.9117\n",
      "Epoch 20/20\n",
      "25000/25000 - 2s - loss: 3.8732e-05 - accuracy: 1.0000 - binary_crossentropy: 3.8732e-05 - val_loss: 0.9250 - val_accuracy: 0.8530 - val_binary_crossentropy: 0.9250\n"
     ]
    }
   ],
   "source": [
    "bigger_history = bigger_model.fit(train_data, train_labels,\n",
    "                                 epochs=20,\n",
    "                                 batch_size=512,\n",
    "                                 validation_data = (test_data, test_labels),\n",
    "                                 verbose=2)"
   ]
  },
  {
   "cell_type": "markdown",
   "metadata": {},
   "source": [
    "#### 훈련 손실과 검증 손실 그래프 그리기\n",
    "실선은 훈련 손실이고 점선은 검증 손실임. 여기서는 작은 네트워크가 기준 모델보다 저 늦게 과대적합이 시작됨. 또한 과대적합이 시작되고 훨씬 천천히 성능이 감소함."
   ]
  },
  {
   "cell_type": "code",
   "execution_count": 22,
   "metadata": {},
   "outputs": [
    {
     "data": {
      "image/png": "[encoded data removed]",
      "text/plain": [
       "<Figure size 1152x720 with 1 Axes>"
      ]
     },
     "metadata": {
      "needs_background": "light"
     },
     "output_type": "display_data"
    }
   ],
   "source": [
    "def plot_history(histories , key = 'binary_crossentropy'):\n",
    "    plt.figure(figsize=(16,10))\n",
    "    \n",
    "    for name, history in histories:\n",
    "        val = plt.plot(history.epoch, history.history['val_'+key],\n",
    "                      '--', label=name.title()+'Val')\n",
    "        plt.plot(history.epoch, history.history[key], color = val[0].get_color(),\n",
    "                label=name.title()+'Train')\n",
    "        plt.xlabel('Epochs')\n",
    "        plt.ylabel(key.replace('_',' ').title())\n",
    "        plt.legend()\n",
    "        plt.xlim([0,max(history.epoch)])\n",
    "        \n",
    "plot_history([('baseline', baseline_history),\n",
    "                 ('smaller', smaller_histroy),\n",
    "                 ('bigger', bigger_history)])"
   ]
  },
  {
   "cell_type": "markdown",
   "metadata": {},
   "source": [
    "큰 네트워크는 거의 바로 첫 번째 에포크 이후에 과대적합이 시작되고 훨씬 더 심각하게 과대적합됨. 네트워크의 용량이 많을수록 훈련 세트를 더 빠르게 모델링할 수 있음.  \n",
    "하지만 더 쉽게 과대적함됨.\n",
    "\n",
    "### 과대적합을 방지하기 위한 전략\n",
    "#### 가중치를 규제하기\n",
    "오캄의 면돌날 이론 : 어떤 것을 설명하는 두 가지 방법이 있다면 더 정확한 설명은 최소한의 가정이 필요한 가장 \"간단한\" 설명일 것임. 이는 신경망으로 학습되는 모델에도 적용됨. 훈련 데이터와 네트워크 구조가 주어졌을 때 이 데이터를 설명할 수 있는 가중치 조합(즉, 가능한 모델)은 많음. 간단한 모델은 복잡한 것보다 과대적합되는 경향이 작을 것임.\n",
    "\n",
    "여기서는 \"간단한 모델\"은 모델 파라미터의 분포를 봤을 때 엔트로피가 작은 모델임. 따라서 과대적합을 완화시키는 일반적인 방법은 가중치가 작은 값을 가지도록 네트워크의 복잡도에 제약을 가하는 것임. 이는 가중치 값의 분포를 좀 더 균일하게 만들어 줌. 이를 \"가중치 규제\"라고 부름. 네트워크의 손실 함수에 큰 가중치에 해당하는 비용을 추가함. 이 비용은 두 가지 형태가 있음.\n",
    "- L1 규제는 가중치의 절댓값에 비례하는 비용이 추가됨.(즉, 가중치의 'L1 norm'을 추가함).\n",
    "- L2 규제는 가중치의 제곱에 비례하는 비용이 추가됨(즉, 가중치의 \"L2 norm\"의 제곱을 추가함.). 신경망에서는 L2 규제를 가중치 감쇠라고도 부름. 이름이 다르지만 혼돈하지 말자. 가중치 감쇠는 수학적으로 L2규제와 동일함.\n",
    "\n",
    "L1 규제는 일부 가중치 파라미터를 0으로 만듬. L2 규제는 가중치 파라미터를 제한하지만 완전히 0으로 만들지 않습니다. 이것이 L2 규제를 더 많이 사용하느 이유 중 하나임.\n",
    "\n",
    "tf.keras 에서는 가중치 규제 객체를 층의 키워드 매개변수에 전달하여 가중치에 규제를 추가함. L2 가중치 규제를 추가함."
   ]
  },
  {
   "cell_type": "code",
   "execution_count": null,
   "metadata": {},
   "outputs": [],
   "source": []
  }
 ],
 "metadata": {
  "kernelspec": {
   "display_name": "Python 3",
   "language": "python",
   "name": "python3"
  },
  "language_info": {
   "codemirror_mode": {
    "name": "ipython",
    "version": 3
   },
   "file_extension": ".py",
   "mimetype": "text/x-python",
   "name": "python",
   "nbconvert_exporter": "python",
   "pygments_lexer": "ipython3",
   "version": "3.7.6"
  }
 },
 "nbformat": 4,
 "nbformat_minor": 4
}

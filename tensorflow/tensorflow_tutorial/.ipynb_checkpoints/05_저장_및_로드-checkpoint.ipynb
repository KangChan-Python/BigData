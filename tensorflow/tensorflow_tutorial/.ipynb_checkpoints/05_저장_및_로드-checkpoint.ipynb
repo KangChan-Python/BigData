{
 "cells": [
  {
   "cell_type": "code",
   "execution_count": 21,
   "metadata": {},
   "outputs": [
    {
     "name": "stdout",
     "output_type": "stream",
     "text": [
      "2.1.0\n"
     ]
    }
   ],
   "source": [
    "import tensorflow as tf\n",
    "from tensorflow import keras\n",
    "\n",
    "import numpy as np\n",
    "\n",
    "print(tf.__version__)"
   ]
  },
  {
   "cell_type": "markdown",
   "metadata": {},
   "source": [
    "## 모델 저장과 복원\n",
    "\n",
    "훈련한는 도중이나 훈련이 끝난 후에 모델을 저장할 수 있음. 모델을 중지된 지점부터 다시 훈련할 수 있어 한 번에 오랫동안 훈련하지 않아도 됨. 또 모델을 저장하면 다른 사람에게 공유할 수 있고 작업을 재현할 수 있음. 연구한 모델과 기법을 공개할 때 많은 머신 러닝 기술자들이 다음과 같은 것들을 제공함.\n",
    "- 모델을 만드는 코드\n",
    "- 모델의 훈련된 가중치 또는 파라미터\n",
    "이런 데이터를 공유하면 다른 사람들이 모델의 작동 방식을 이해하고 새로운 데이터로 모델을 실험하는 데 도움이 됨\n",
    "\n",
    "주의 : 신뢰할 수 없는 코드는 조심할 것. 텐서플로 모델은 프로그램 코드임. https://github.com/tensorflow/tensorflow/blob/master/SECURITY.md 참고\n",
    "\n",
    "#### 저장방식 \n",
    "사용하는 API에 따라서 여러가지 방법으로 텐서플로 모델을 저장할 수 있음. 이 문서는 텐서플로 모델을 만들고 훈련하기 위한 고수준 API인 tf.keras를 사용함. 다른 방법들에 대해서는 텐서플로의 https://www.tensorflow.org/guide/saved_model 문서와 즉시 실행(eager_execution) 문서의 https://www.tensorflow.org/guide/eager#object-based_saving 문서를 참고하자.\n",
    "\n",
    "### 설정\n",
    "#### 설치와 임포트\n",
    "필요한 라이브러리를 설치하고 텐서플로를 임포트함.\n",
    "\n",
    "pip install -q pyyaml h5py # HDF5 포맷으로 모델을 저장하기 위해서 필요합니다\n",
    "\n",
    "\n",
    "#### 예제 데이터셋 받기\n",
    "MNIST 데이터셋으로 모델을 훈련하여 가중치를 저장하는 예제를 만들어 보겠음.  \n",
    "모델 실행 속도를 빠르게 하기 위해 샘플에서 처음 1000개만 사용함."
   ]
  },
  {
   "cell_type": "code",
   "execution_count": 22,
   "metadata": {},
   "outputs": [],
   "source": [
    "(train_images, train_labels), (test_images, test_labels) = tf.keras.datasets.mnist.load_data()\n",
    "\n",
    "train_labels= train_labels[:1000]\n",
    "test_labels = test_labels[:1000]\n",
    "\n",
    "train_images = train_images[:1000].reshape(-1, 28 * 28) /255.0\n",
    "test_images = test_images[:1000].reshape(-1,28 * 28) / 255.0"
   ]
  },
  {
   "cell_type": "markdown",
   "metadata": {},
   "source": [
    "#### 모델 정의\n",
    "먼저 간단한 모델을 하나 만들어 보자."
   ]
  },
  {
   "cell_type": "code",
   "execution_count": 23,
   "metadata": {},
   "outputs": [
    {
     "name": "stdout",
     "output_type": "stream",
     "text": [
      "Model: \"sequential_8\"\n",
      "_________________________________________________________________\n",
      "Layer (type)                 Output Shape              Param #   \n",
      "=================================================================\n",
      "dense_16 (Dense)             (None, 512)               401920    \n",
      "_________________________________________________________________\n",
      "dropout_8 (Dropout)          (None, 512)               0         \n",
      "_________________________________________________________________\n",
      "dense_17 (Dense)             (None, 10)                5130      \n",
      "=================================================================\n",
      "Total params: 407,050\n",
      "Trainable params: 407,050\n",
      "Non-trainable params: 0\n",
      "_________________________________________________________________\n"
     ]
    }
   ],
   "source": [
    "# 간단한 Sequential 모델을 정의\n",
    "def create_model():\n",
    "    model = tf.keras.models.Sequential([\n",
    "        keras.layers.Dense(512, activation='relu', input_shape = (784,)),\n",
    "        keras.layers.Dropout(0.2),\n",
    "        keras.layers.Dense(10)\n",
    "    ])\n",
    "    \n",
    "    model.compile(optimizer='adam',\n",
    "                 loss=tf.losses.SparseCategoricalCrossentropy(from_logits= True),\n",
    "                  metrics=['accuracy'])\n",
    "    \n",
    "    return model\n",
    "\n",
    "# 모덱 객체 생성\n",
    "model = create_model()\n",
    "\n",
    "# 모델 구조를 출력함\n",
    "model.summary()"
   ]
  },
  {
   "cell_type": "markdown",
   "metadata": {},
   "source": [
    "### 훈련하는 동안 체크포인트 저장하기 \n",
    "\n",
    "훈련 중간과 훈련 마지막에 체크포인트를 자동으로 저장하도록 하는 것이 많이 사용하는 방법임. 다시 훈련하지 않고 모델을 재사용하거나 훈련 과정이 중지된 경우 이어서 훈련을 진행할 수 있음.\n",
    "tf.keras.callbacks.ModelCheckpoint은 이런 작업을 수행하는 콜백임. 이 콜백은 체크포인트 작업을 조정할 수 있도록 여러가지 매개변수를 제공\n",
    "\n",
    "#### 체크포인트 콜백 사용하기\n",
    "훈련하는 동안 가중치를 저장하기 위해 ModelCheckpoint 콜백을 만들어 보자.\n"
   ]
  },
  {
   "cell_type": "code",
   "execution_count": 24,
   "metadata": {},
   "outputs": [],
   "source": [
    "import os"
   ]
  },
  {
   "cell_type": "code",
   "execution_count": 25,
   "metadata": {},
   "outputs": [
    {
     "name": "stdout",
     "output_type": "stream",
     "text": [
      "Train on 1000 samples, validate on 1000 samples\n",
      "Epoch 1/10\n",
      " 544/1000 [===============>..............] - ETA: 0s - loss: 1.5088 - accuracy: 0.5496 \n",
      "Epoch 00001: saving model to training_1/cp.ckpt\n",
      "1000/1000 [==============================] - 1s 592us/sample - loss: 1.1551 - accuracy: 0.6660 - val_loss: 0.7038 - val_accuracy: 0.7880\n",
      "Epoch 2/10\n",
      " 544/1000 [===============>..............] - ETA: 0s - loss: 0.4726 - accuracy: 0.8676\n",
      "Epoch 00002: saving model to training_1/cp.ckpt\n",
      "1000/1000 [==============================] - 0s 269us/sample - loss: 0.4271 - accuracy: 0.8820 - val_loss: 0.5163 - val_accuracy: 0.8380\n",
      "Epoch 3/10\n",
      " 512/1000 [==============>...............] - ETA: 0s - loss: 0.2952 - accuracy: 0.9238\n",
      "Epoch 00003: saving model to training_1/cp.ckpt\n",
      "1000/1000 [==============================] - 0s 185us/sample - loss: 0.2843 - accuracy: 0.9290 - val_loss: 0.4530 - val_accuracy: 0.8620\n",
      "Epoch 4/10\n",
      " 512/1000 [==============>...............] - ETA: 0s - loss: 0.1910 - accuracy: 0.9609\n",
      "Epoch 00004: saving model to training_1/cp.ckpt\n",
      "1000/1000 [==============================] - 0s 192us/sample - loss: 0.1990 - accuracy: 0.9570 - val_loss: 0.4405 - val_accuracy: 0.8630\n",
      "Epoch 5/10\n",
      " 576/1000 [================>.............] - ETA: 0s - loss: 0.1487 - accuracy: 0.9740\n",
      "Epoch 00005: saving model to training_1/cp.ckpt\n",
      "1000/1000 [==============================] - 0s 180us/sample - loss: 0.1515 - accuracy: 0.9720 - val_loss: 0.4183 - val_accuracy: 0.8570\n",
      "Epoch 6/10\n",
      " 960/1000 [===========================>..] - ETA: 0s - loss: 0.1095 - accuracy: 0.9802\n",
      "Epoch 00006: saving model to training_1/cp.ckpt\n",
      "1000/1000 [==============================] - 0s 205us/sample - loss: 0.1095 - accuracy: 0.9800 - val_loss: 0.4224 - val_accuracy: 0.8640\n",
      "Epoch 7/10\n",
      " 864/1000 [========================>.....] - ETA: 0s - loss: 0.0851 - accuracy: 0.9826\n",
      "Epoch 00007: saving model to training_1/cp.ckpt\n",
      "1000/1000 [==============================] - 0s 241us/sample - loss: 0.0837 - accuracy: 0.9820 - val_loss: 0.4456 - val_accuracy: 0.8560\n",
      "Epoch 8/10\n",
      " 544/1000 [===============>..............] - ETA: 0s - loss: 0.0685 - accuracy: 0.9926\n",
      "Epoch 00008: saving model to training_1/cp.ckpt\n",
      "1000/1000 [==============================] - 0s 185us/sample - loss: 0.0682 - accuracy: 0.9900 - val_loss: 0.4192 - val_accuracy: 0.8630\n",
      "Epoch 9/10\n",
      " 512/1000 [==============>...............] - ETA: 0s - loss: 0.0509 - accuracy: 0.9941\n",
      "Epoch 00009: saving model to training_1/cp.ckpt\n",
      "1000/1000 [==============================] - 0s 197us/sample - loss: 0.0506 - accuracy: 0.9950 - val_loss: 0.4071 - val_accuracy: 0.8680\n",
      "Epoch 10/10\n",
      " 512/1000 [==============>...............] - ETA: 0s - loss: 0.0341 - accuracy: 1.0000\n",
      "Epoch 00010: saving model to training_1/cp.ckpt\n",
      "1000/1000 [==============================] - 0s 179us/sample - loss: 0.0357 - accuracy: 0.9990 - val_loss: 0.4027 - val_accuracy: 0.8650\n"
     ]
    },
    {
     "data": {
      "text/plain": [
       "<tensorflow.python.keras.callbacks.History at 0x21f84019fc8>"
      ]
     },
     "execution_count": 25,
     "metadata": {},
     "output_type": "execute_result"
    }
   ],
   "source": [
    "checkpoint_path = \"training_1/cp.ckpt\"\n",
    "checkpoint_dir = os.path.dirname(checkpoint_path)\n",
    "\n",
    "# 모델의 가중치를 저장하는 콜백 만들기\n",
    "cp_callback = tf.keras.callbacks.ModelCheckpoint(filepath= checkpoint_path,\n",
    "                                                save_weights_only=True,\n",
    "                                                verbose=1)\n",
    "# 새로운 콜백으로 모델 훈련하기\n",
    "model.fit(train_images,\n",
    "         train_labels,\n",
    "         epochs=10,\n",
    "         validation_data = (test_images, test_labels),\n",
    "         callbacks=[cp_callback]) # 콜백을 훈련에 전달함\n",
    "# 옵티마이저의 상태를 저장하는 것과 관련되어 경고가 발생할 수 있음\n",
    "# 이 경고는 (그리고 이 노트북의 다른 비슷한 경고는 ) 이전 사용 방식을 권장하지 않기 위함이며 무시해도 됨\n"
   ]
  },
  {
   "cell_type": "code",
   "execution_count": 26,
   "metadata": {},
   "outputs": [
    {
     "name": "stdout",
     "output_type": "stream",
     "text": [
      " C 드라이브의 볼륨에는 이름이 없습니다.\n",
      " 볼륨 일련 번호: FA01-204A\n",
      "\n",
      " C:\\Users\\Kang\\GitBig\\tensorflow\\tensorflow_tutorial\\training_1 디렉터리\n",
      "\n",
      "2020-10-14  오후 11:32    <DIR>          .\n",
      "2020-10-14  오후 11:32    <DIR>          ..\n",
      "2020-10-14  오후 11:32                71 checkpoint\n",
      "2020-10-14  오후 11:32         4,886,712 cp.ckpt.data-00000-of-00001\n",
      "2020-10-14  오후 11:32             1,222 cp.ckpt.index\n",
      "               3개 파일           4,888,005 바이트\n",
      "               2개 디렉터리  97,029,124,096 바이트 남음\n"
     ]
    }
   ],
   "source": [
    "!dir {checkpoint_dir}"
   ]
  },
  {
   "cell_type": "markdown",
   "metadata": {},
   "source": [
    "훈련하지 않은 새로운 모델을 만들어 보겠음. 가중치만 복원할 땐 원본 모델과 동일한 구조로 모델을 만들어야함. 여기서는 동일한 구조로 모델을 만들었으므로 다른 객체이지만 가중치를 공유할 수 있음\n",
    "\n",
    "훈련하지 않은 새 모델을 만들고 테스트 세트에서 평가해 보자. 훈련되지 않은 모델의 성능은 무작위로 선택하는 정도의 수준 (~10% 정확도)"
   ]
  },
  {
   "cell_type": "code",
   "execution_count": 27,
   "metadata": {},
   "outputs": [
    {
     "name": "stdout",
     "output_type": "stream",
     "text": [
      "1000/1000 - 0s - loss: 2.3220 - accuracy: 0.1250\n",
      "훈련되지 않은 모델의 정확도 : 12.50%\n"
     ]
    }
   ],
   "source": [
    "# 기본 모델 객채 생성\n",
    "model =create_model()\n",
    "\n",
    "# 모델을 평가함\n",
    "loss, acc = model.evaluate(test_images, test_labels,verbose=2)\n",
    "print('훈련되지 않은 모델의 정확도 : {:5.2f}%'.format(100*acc))"
   ]
  },
  {
   "cell_type": "markdown",
   "metadata": {},
   "source": [
    "체크포인트에서 가중치를 로드하고 다시 평가해보자"
   ]
  },
  {
   "cell_type": "code",
   "execution_count": 28,
   "metadata": {},
   "outputs": [
    {
     "name": "stdout",
     "output_type": "stream",
     "text": [
      "1000/1000 - 0s - loss: 0.4027 - accuracy: 0.8650\n",
      "복원된 모델의 정확도 : 86.50%\n"
     ]
    }
   ],
   "source": [
    "# 가중치 로드\n",
    "model.load_weights(checkpoint_path)\n",
    "\n",
    "# 모델 재평가\n",
    "loss, acc = model.evaluate(test_images, test_labels,verbose=2)\n",
    "print('복원된 모델의 정확도 : {:5.2f}%'.format(100*acc))"
   ]
  },
  {
   "cell_type": "markdown",
   "metadata": {},
   "source": [
    "#### 체크포인트 콜백 매개변수\n",
    "이 콜백 함수는 몇 가지 매개변수를 제공함. 체크포인트 이름을 고유하게 만들거나 체크포인트 주기를 조정할 수 있음\n",
    "\n",
    "새로운 모델을 훈련하고 다섯 번의 에포크마다 고유한 이름으로 체크포인트를 저장해 보자."
   ]
  },
  {
   "cell_type": "code",
   "execution_count": 29,
   "metadata": {},
   "outputs": [
    {
     "name": "stdout",
     "output_type": "stream",
     "text": [
      "WARNING:tensorflow:`period` argument is deprecated. Please use `save_freq` to specify the frequency in number of samples seen.\n",
      "training_2/cp-0000.ckpt\n",
      "WARNING:tensorflow:Unresolved object in checkpoint: (root).optimizer.iter\n",
      "WARNING:tensorflow:Unresolved object in checkpoint: (root).optimizer.beta_1\n",
      "WARNING:tensorflow:Unresolved object in checkpoint: (root).optimizer.beta_2\n",
      "WARNING:tensorflow:Unresolved object in checkpoint: (root).optimizer.decay\n",
      "WARNING:tensorflow:Unresolved object in checkpoint: (root).optimizer.learning_rate\n",
      "WARNING:tensorflow:A checkpoint was restored (e.g. tf.train.Checkpoint.restore or tf.keras.Model.load_weights) but not all checkpointed values were used. See above for specific issues. Use expect_partial() on the load status object, e.g. tf.train.Checkpoint.restore(...).expect_partial(), to silence these warnings, or use assert_consumed() to make the check explicit. See https://www.tensorflow.org/guide/checkpoint#loading_mechanics for details.\n",
      "WARNING:tensorflow:Unresolved object in checkpoint: (root).optimizer.iter\n",
      "WARNING:tensorflow:Unresolved object in checkpoint: (root).optimizer.beta_1\n",
      "WARNING:tensorflow:Unresolved object in checkpoint: (root).optimizer.beta_2\n",
      "WARNING:tensorflow:Unresolved object in checkpoint: (root).optimizer.decay\n",
      "WARNING:tensorflow:Unresolved object in checkpoint: (root).optimizer.learning_rate\n",
      "WARNING:tensorflow:A checkpoint was restored (e.g. tf.train.Checkpoint.restore or tf.keras.Model.load_weights) but not all checkpointed values were used. See above for specific issues. Use expect_partial() on the load status object, e.g. tf.train.Checkpoint.restore(...).expect_partial(), to silence these warnings, or use assert_consumed() to make the check explicit. See https://www.tensorflow.org/guide/checkpoint#loading_mechanics for details.\n",
      "\n",
      "Epoch 00005: saving model to training_2/cp-0005.ckpt\n",
      "\n",
      "Epoch 00010: saving model to training_2/cp-0010.ckpt\n",
      "\n",
      "Epoch 00015: saving model to training_2/cp-0015.ckpt\n",
      "\n",
      "Epoch 00020: saving model to training_2/cp-0020.ckpt\n",
      "\n",
      "Epoch 00025: saving model to training_2/cp-0025.ckpt\n",
      "\n",
      "Epoch 00030: saving model to training_2/cp-0030.ckpt\n",
      "\n",
      "Epoch 00035: saving model to training_2/cp-0035.ckpt\n",
      "\n",
      "Epoch 00040: saving model to training_2/cp-0040.ckpt\n",
      "\n",
      "Epoch 00045: saving model to training_2/cp-0045.ckpt\n",
      "\n",
      "Epoch 00050: saving model to training_2/cp-0050.ckpt\n"
     ]
    },
    {
     "data": {
      "text/plain": [
       "<tensorflow.python.keras.callbacks.History at 0x21f85772b08>"
      ]
     },
     "execution_count": 29,
     "metadata": {},
     "output_type": "execute_result"
    }
   ],
   "source": [
    "# 파일 이름에 에포크 번호를 포함 시킴('str.format' 포맷)\n",
    "checkpoint_path = 'training_2/cp-{epoch:04d}.ckpt'\n",
    "checkpoint_dir = os.path.dirname(checkpoint_path)\n",
    "\n",
    "# 다섯 번째 에포크마다 가중치를 저장하기 위한 콜백을 만듬\n",
    "cp_callback = tf.keras.callbacks.ModelCheckpoint(\n",
    "filepath=checkpoint_path,\n",
    "verbose=1, save_weights_only=True,\n",
    "period =5)\n",
    "\n",
    "# 새로운 모델 객체를 만듬\n",
    "model = create_model()\n",
    "\n",
    "# 확인\n",
    "print(checkpoint_path.format(epoch=0))\n",
    "\n",
    "# 'checkpoint_path' 포맷을 사용하는 가중치를 저장함\n",
    "model.save_weights(checkpoint_path.format(epoch=0))\n",
    "\n",
    "# 새로운 콜백을 사용하여 모델을 훈련\n",
    "model.fit(train_images, train_labels,\n",
    "         epochs= 50,\n",
    "         callbacks= [cp_callback],\n",
    "         validation_data= (test_images, test_labels),\n",
    "         verbose=0)"
   ]
  },
  {
   "cell_type": "code",
   "execution_count": 30,
   "metadata": {},
   "outputs": [
    {
     "name": "stdout",
     "output_type": "stream",
     "text": [
      " C 드라이브의 볼륨에는 이름이 없습니다.\n",
      " 볼륨 일련 번호: FA01-204A\n",
      "\n",
      " C:\\Users\\Kang\\GitBig\\tensorflow\\tensorflow_tutorial\\training_2 디렉터리\n",
      "\n",
      "2020-10-14  오후 11:32    <DIR>          .\n",
      "2020-10-14  오후 11:32    <DIR>          ..\n",
      "2020-10-14  오후 11:32                81 checkpoint\n",
      "2020-10-14  오후 11:32         1,628,745 cp-0000.ckpt.data-00000-of-00001\n",
      "2020-10-14  오후 11:32               402 cp-0000.ckpt.index\n",
      "2020-10-14  오후 11:32         4,886,712 cp-0005.ckpt.data-00000-of-00001\n",
      "2020-10-14  오후 11:32             1,222 cp-0005.ckpt.index\n",
      "2020-10-14  오후 11:32         4,886,712 cp-0010.ckpt.data-00000-of-00001\n",
      "2020-10-14  오후 11:32             1,222 cp-0010.ckpt.index\n",
      "2020-10-14  오후 11:32         4,886,712 cp-0015.ckpt.data-00000-of-00001\n",
      "2020-10-14  오후 11:32             1,222 cp-0015.ckpt.index\n",
      "2020-10-14  오후 11:32         4,886,712 cp-0020.ckpt.data-00000-of-00001\n",
      "2020-10-14  오후 11:32             1,222 cp-0020.ckpt.index\n",
      "2020-10-14  오후 11:32         4,886,712 cp-0025.ckpt.data-00000-of-00001\n",
      "2020-10-14  오후 11:32             1,222 cp-0025.ckpt.index\n",
      "2020-10-14  오후 11:32         4,886,712 cp-0030.ckpt.data-00000-of-00001\n",
      "2020-10-14  오후 11:32             1,222 cp-0030.ckpt.index\n",
      "2020-10-14  오후 11:32         4,886,712 cp-0035.ckpt.data-00000-of-00001\n",
      "2020-10-14  오후 11:32             1,222 cp-0035.ckpt.index\n",
      "2020-10-14  오후 11:32         4,886,712 cp-0040.ckpt.data-00000-of-00001\n",
      "2020-10-14  오후 11:32             1,222 cp-0040.ckpt.index\n",
      "2020-10-14  오후 11:32         4,886,712 cp-0045.ckpt.data-00000-of-00001\n",
      "2020-10-14  오후 11:32             1,222 cp-0045.ckpt.index\n",
      "2020-10-14  오후 11:32         4,886,712 cp-0050.ckpt.data-00000-of-00001\n",
      "2020-10-14  오후 11:32             1,222 cp-0050.ckpt.index\n",
      "              23개 파일          50,508,568 바이트\n",
      "               2개 디렉터리  97,028,997,120 바이트 남음\n"
     ]
    }
   ],
   "source": [
    "!dir {checkpoint_dir}"
   ]
  },
  {
   "cell_type": "code",
   "execution_count": 31,
   "metadata": {},
   "outputs": [
    {
     "data": {
      "text/plain": [
       "'training_2\\\\cp-0050.ckpt'"
      ]
     },
     "execution_count": 31,
     "metadata": {},
     "output_type": "execute_result"
    }
   ],
   "source": [
    "latest = tf.train.latest_checkpoint(checkpoint_dir)\n",
    "latest"
   ]
  },
  {
   "cell_type": "markdown",
   "metadata": {},
   "source": [
    "노트 : 텐서플로는 기본적으로 최근 5개의 체크포인트만 저장함.\n",
    "    \n",
    "모델을 초기화하고 최근 체크포인트를 로드하여 테스트해 보자."
   ]
  },
  {
   "cell_type": "code",
   "execution_count": 32,
   "metadata": {},
   "outputs": [
    {
     "name": "stdout",
     "output_type": "stream",
     "text": [
      "1000/1000 - 0s - loss: 0.4956 - accuracy: 0.8740\n",
      "복원된 모델의 정확도 87.40%\n"
     ]
    }
   ],
   "source": [
    "# 새로운 모델 객체 생성\n",
    "model =create_model()\n",
    "\n",
    "# 이전에 저장한 최신 가중치를 로드\n",
    "model.load_weights(latest)\n",
    "\n",
    "# 모델을 평가\n",
    "loss, acc = model.evaluate(test_images, test_labels, verbose=2)\n",
    "print(\"복원된 모델의 정확도 {:5.2f}%\".format(100 *acc))"
   ]
  },
  {
   "cell_type": "markdown",
   "metadata": {},
   "source": [
    "### 이 파일들은 무엇인가요?\n",
    "위 코드는 이진 형식의 훈련된 가중치만 포함하는 체크포인트 형식의 파일에 가중치를 저장함.  \n",
    "체크포인트의 내용:  \n",
    "    - 모델의 중량이 들어 있는 파편 하나 이상.\n",
    "    - 어떤 가중치가 어느 조각에 있는지 나타내는 인덱스 파일\n",
    "    \n",
    "만약 한 대의 모델을 훈련 했다면, 접미사가 있는 하나의 조각만 있을 것임. data-00000-of-00001"
   ]
  },
  {
   "cell_type": "markdown",
   "metadata": {},
   "source": [
    "### 수동으로 가중치 저장하기\n",
    "앞에서 가중치를 모델에 로드하는 방법을 봄. 수동으로 가중치를 저장하는 것도 쉬움. Model_save_weights 메서드를 사용함. tf.keras는, 특히 save_weights는 .ckpt 확장자를 가진 텐서플로 체크포인트 포맷을 사용함. (.h5 확장자의 HDF5으로 저장하는 것은 https://www.tensorflow.org/guide/keras/save_and_serialize#weights_only_saving_in_savedmodel_format 가이드에서 다룸):\n"
   ]
  },
  {
   "cell_type": "code",
   "execution_count": 33,
   "metadata": {},
   "outputs": [
    {
     "name": "stdout",
     "output_type": "stream",
     "text": [
      "1000/1000 - 0s - loss: 0.4956 - accuracy: 0.8740\n",
      "복원된 모델의 정확도 : 87.40%\n"
     ]
    }
   ],
   "source": [
    "# 가중치를 저장함\n",
    "model.save_weights('./checkpoints/my_checkpint')\n",
    "\n",
    "# 새로운 모델 객체 생성\n",
    "model = create_model()\n",
    "\n",
    "# 가중치를 복원함\n",
    "model.load_weights('./checkpoints/my_checkpint')\n",
    "\n",
    "# 모델을 평가함\n",
    "loss, acc = model.evaluate(test_images, test_labels, verbose=2)\n",
    "print('복원된 모델의 정확도 : {:5.2f}%'.format(100*acc))"
   ]
  },
  {
   "cell_type": "markdown",
   "metadata": {},
   "source": [
    "### 전체 모델 저장하기\n",
    "\n",
    "model.save 메서드를 호출하여 모델의 구조, 가중치, 훈련 설정을 하나의 파일/폴더에 저장함. 모델을 저장하기 때문에 원본 파이썬 코드*가 없어도 사용할 수 있음. 옵티마이저 상태가 복원되므로 정확히 중지한 시점에서 다시 훈련을 시작할 수 있음.\n",
    "\n",
    "두 개의 포맷(SaveModel과 HDF5)으로 모델을 저장할 수 있음. 텐서플로의 SaveModel 포맷은 TF2.X에서 기본 파일 포맷임. 하지만 HDF5 포맷으로 저장 가능. 두 파일 포맷으로 전체 모델을 저장하는 방법은 아래에서 자세히 설명함.\n",
    "\n",
    "전체 모델을 저장하는 기능은 매우 유용함. TensorFlow.js로 모델을 로드한 다음 웹 브라우저에서 모델을 훈련하고 실행할 수 있음(Saved Model, HDF5) 또는 모바일 장치에 맞도록 변환한 다음 TensorFlow Lite를 사용하여 실행 가능\n",
    "\n",
    "* 사용자 정의 객체(예를 들면 상속으로 만든 클래스나 층)는 저장하고 로드하는데 특별한 주의가 필요함. 아래 사용자 정의 객체 저장하기 섹션을 참고\n",
    "\n",
    "#### SavedModel 포맷\n",
    "\n",
    "SavedModel 포맷은 모델을 직렬화하는 다른 방법임. 이 포맷으로 저장한 모델은 tf.keras.models.load_mdoel로 복원할 수 있고 텐서플로 서빙과 호환됨. SavedModel 가이드(https://www.tensorflow.org/guide/saved_model)에서 SavedModel를 서빙하고 점검하는 자세한 방법을 제공함 이 섹션에서는 모델을 저장하고 복원하는 방법을 안내함."
   ]
  },
  {
   "cell_type": "code",
   "execution_count": 39,
   "metadata": {},
   "outputs": [
    {
     "name": "stdout",
     "output_type": "stream",
     "text": [
      "Train on 1000 samples\n",
      "Epoch 1/5\n",
      "1000/1000 [==============================] - 0s 442us/sample - loss: 1.1769 - accuracy: 0.6580\n",
      "Epoch 2/5\n",
      "1000/1000 [==============================] - 0s 108us/sample - loss: 0.4378 - accuracy: 0.8740\n",
      "Epoch 3/5\n",
      "1000/1000 [==============================] - 0s 118us/sample - loss: 0.2942 - accuracy: 0.9270\n",
      "Epoch 4/5\n",
      "1000/1000 [==============================] - 0s 98us/sample - loss: 0.2085 - accuracy: 0.9450\n",
      "Epoch 5/5\n",
      "1000/1000 [==============================] - 0s 98us/sample - loss: 0.1586 - accuracy: 0.9680\n"
     ]
    },
    {
     "name": "stderr",
     "output_type": "stream",
     "text": [
      "하위 디렉터리 또는 파일 saved_model이(가) 이미 있습니다.\n"
     ]
    },
    {
     "name": "stdout",
     "output_type": "stream",
     "text": [
      "INFO:tensorflow:Assets written to: ./saved_model\\assets\n"
     ]
    }
   ],
   "source": [
    "# 새로운 모델을 객체를 만들고 훈련함.\n",
    "model = create_model()\n",
    "model.fit(train_images, train_labels, epochs=5)\n",
    "\n",
    "# SavedModel로 전체 모델을 저장함\n",
    "!mkdir saved_model\n",
    "\n",
    "model.save('./saved_model')"
   ]
  },
  {
   "cell_type": "markdown",
   "metadata": {},
   "source": [
    "SavedModel 포맷은 프로토콜 버퍼 이진 파일과 텐서플로 체크포인트를 담고 있는 디렉토리임.  \n",
    "저장된 모델의 디렐토리를 확인해보자"
   ]
  },
  {
   "cell_type": "code",
   "execution_count": 41,
   "metadata": {},
   "outputs": [
    {
     "name": "stdout",
     "output_type": "stream",
     "text": [
      " C 드라이브의 볼륨에는 이름이 없습니다.\n",
      " 볼륨 일련 번호: FA01-204A\n",
      "\n",
      " C:\\Users\\Kang\\GitBig\\tensorflow\\tensorflow_tutorial\\saved_model 디렉터리\n",
      "\n",
      "2020-10-14  오후 11:42    <DIR>          .\n",
      "2020-10-14  오후 11:42    <DIR>          ..\n",
      "2020-10-14  오후 11:42    <DIR>          assets\n",
      "2020-10-14  오후 11:42            83,004 saved_model.pb\n",
      "2020-10-14  오후 11:42    <DIR>          variables\n",
      "               1개 파일              83,004 바이트\n",
      "               4개 디렉터리  97,014,677,504 바이트 남음\n"
     ]
    }
   ],
   "source": [
    "# my_model 디렉토리 /#assests 폴더, saved_model.pb, variables 폴더\n",
    "!dir saved_model\n"
   ]
  },
  {
   "cell_type": "markdown",
   "metadata": {},
   "source": [
    "저장된 모델로부터 새로운 케라스 모델을 로드함."
   ]
  },
  {
   "cell_type": "code",
   "execution_count": 42,
   "metadata": {},
   "outputs": [
    {
     "name": "stdout",
     "output_type": "stream",
     "text": [
      "Model: \"sequential_18\"\n",
      "_________________________________________________________________\n",
      "Layer (type)                 Output Shape              Param #   \n",
      "=================================================================\n",
      "dense_36 (Dense)             (None, 512)               401920    \n",
      "_________________________________________________________________\n",
      "dropout_18 (Dropout)         (None, 512)               0         \n",
      "_________________________________________________________________\n",
      "dense_37 (Dense)             (None, 10)                5130      \n",
      "=================================================================\n",
      "Total params: 407,050\n",
      "Trainable params: 407,050\n",
      "Non-trainable params: 0\n",
      "_________________________________________________________________\n"
     ]
    }
   ],
   "source": [
    "new_model = tf.keras.models.load_model('saved_model')\n",
    "\n",
    "new_model.summary()"
   ]
  },
  {
   "cell_type": "markdown",
   "metadata": {},
   "source": [
    "복원된 모델은 원본 모델과 동일한 매개변수로 컴파일되어 있음. 이 모델을 평가하고 예측에 사용해보자."
   ]
  },
  {
   "cell_type": "code",
   "execution_count": 44,
   "metadata": {},
   "outputs": [
    {
     "name": "stdout",
     "output_type": "stream",
     "text": [
      "1000/1000 - 0s - loss: 0.4345 - accuracy: 0.8560\n",
      "복원된 모델의 정확도: 85.60%\n",
      "(1000, 10)\n"
     ]
    }
   ],
   "source": [
    "# 복원된 모델을 평가함\n",
    "loss, acc = new_model.evaluate(test_images,  test_labels, verbose=2)\n",
    "print('복원된 모델의 정확도: {:5.2f}%'.format(100*acc))\n",
    "\n",
    "print(new_model.predict(test_images).shape)"
   ]
  },
  {
   "cell_type": "markdown",
   "metadata": {},
   "source": [
    "#### HDF5 파일로 저장하기\n",
    "케라스는 HDF5 표준을 따르는 기본 저장 포맷을 제공함\n"
   ]
  },
  {
   "cell_type": "code",
   "execution_count": 45,
   "metadata": {},
   "outputs": [
    {
     "name": "stdout",
     "output_type": "stream",
     "text": [
      "Train on 1000 samples\n",
      "Epoch 1/5\n",
      "1000/1000 [==============================] - 0s 438us/sample - loss: 1.1415 - accuracy: 0.6790\n",
      "Epoch 2/5\n",
      "1000/1000 [==============================] - 0s 108us/sample - loss: 0.4376 - accuracy: 0.8700\n",
      "Epoch 3/5\n",
      "1000/1000 [==============================] - 0s 103us/sample - loss: 0.2768 - accuracy: 0.9270\n",
      "Epoch 4/5\n",
      "1000/1000 [==============================] - 0s 100us/sample - loss: 0.1950 - accuracy: 0.9530\n",
      "Epoch 5/5\n",
      "1000/1000 [==============================] - 0s 102us/sample - loss: 0.1560 - accuracy: 0.9660\n"
     ]
    }
   ],
   "source": [
    "# 새로운 모델 객체를 만들고 훈련함\n",
    "model = create_model()\n",
    "model.fit(train_images, train_labels, epochs=5)\n",
    "\n",
    "# 전체 모델을 HDF5 파일로 저장함\n",
    "# '.h5' 확장자는 이 모델이 HDF5로 저장되었다는 것을 나타냄\n",
    "model.save('my_model.h5') "
   ]
  },
  {
   "cell_type": "markdown",
   "metadata": {},
   "source": [
    "이제 이 파일로부터 모델을 다시 만들어 보자."
   ]
  },
  {
   "cell_type": "code",
   "execution_count": 46,
   "metadata": {},
   "outputs": [
    {
     "name": "stdout",
     "output_type": "stream",
     "text": [
      "Model: \"sequential_19\"\n",
      "_________________________________________________________________\n",
      "Layer (type)                 Output Shape              Param #   \n",
      "=================================================================\n",
      "dense_38 (Dense)             (None, 512)               401920    \n",
      "_________________________________________________________________\n",
      "dropout_19 (Dropout)         (None, 512)               0         \n",
      "_________________________________________________________________\n",
      "dense_39 (Dense)             (None, 10)                5130      \n",
      "=================================================================\n",
      "Total params: 407,050\n",
      "Trainable params: 407,050\n",
      "Non-trainable params: 0\n",
      "_________________________________________________________________\n"
     ]
    }
   ],
   "source": [
    "# 가중치와 옵티마이저를 포함하여 정확히 동일한 모델을 다시 생성함\n",
    "new_model = tf.keras.models.load_model('my_model.h5')\n",
    "\n",
    "# 모델 구조를 출력함\n",
    "new_model.summary()"
   ]
  },
  {
   "cell_type": "markdown",
   "metadata": {},
   "source": [
    "정확도를 확인해 보겠음"
   ]
  },
  {
   "cell_type": "code",
   "execution_count": 47,
   "metadata": {},
   "outputs": [
    {
     "name": "stdout",
     "output_type": "stream",
     "text": [
      "1000/1000 - 0s - loss: 0.4460 - accuracy: 0.8640\n",
      "복원된 모델의 정확도: 86.40%\n"
     ]
    }
   ],
   "source": [
    "loss, acc = new_model.evaluate(test_images,  test_labels, verbose=2)\n",
    "print('복원된 모델의 정확도: {:5.2f}%'.format(100*acc))"
   ]
  },
  {
   "cell_type": "markdown",
   "metadata": {},
   "source": [
    "Keras는 모델 구조를 파악하여 저장함. 이 방식은 다음과 같은 모든 것을 저장함.\n",
    "- 가중치 값\n",
    "- 모델 구조\n",
    "- 모델의 훈련 설정(컴파일 시 전달한 값)\n",
    "- 옵티마이저와 필요한 옵티마이저 상태( 중지된 시점부터 다시 시작할 수 있음)\n",
    "\n",
    "체크포인트가 호환되지 않기 때문에 케라슨 v1.x옵티마이저\n",
    "(tf.compact.v1.train)를 저장할 수 없음. v1.x 옵티마이저를 사용하려면 로드한 후에 모델을 다시 컴파일해야 함. 따라서 옵티마이저의 상태를 잃게 됨\n",
    "\n",
    "### 사용자 정의 객체\n",
    "SaveModel 포맷을 사용한다면 이 섹션은 건너 뛰어도 됩니다. HDF5와 SavedModel 사이의 주요 차이점은 HDF5가 객체로 모델 구조를 저장하고 SavedModel은 실행 그래프로 저장하는 것입니다. 따라서 SavedModel은 원본 코드 없이 상속 모델과 사용자 정의 층 같은 사용자 정의 객체를 저장할 수 있습니다.\n",
    "\n",
    "사용자 정의 객체를 HDF5로 저장하려면 다음 과정을 따르세요:\n",
    "\n",
    "1. 이 객체에 get_config 메서드를 정의하고 선택적으로 from_config 클래스 메서드를 정의합니다.\n",
    "    - get_config(self)는 객체를 다시 생성하기 위해 필요한 JSON 직렬화된 매개변수 딕셔너리를 반환합니다.\n",
    "    - from_config(cls, config)는 get_config에서 반환된 설정을 사용해 새로운 객체를 만듭니다. 기본적으로 이 함수는 이 설정을 초기화 메서드의 매개변수로 사용합니다(return cls(**config)).\n",
    "2. 모델을 로드할 때 이 객체를 custom_objects 매개변수로 전달합니다. 문자열 클래스 이름과 파이썬 클래스를 매핑한 딕서너리를 매개변수로 제공해야 합니다. 예를 들면 tf.keras.models.load_model(path, custom_objects={'CustomLayer': CustomLayer})\n",
    "\n",
    "사용자 정의 객체와 get_config에 관한 예제를 보려면 Writing layers and models from scratch 튜토리얼을 참고하세요."
   ]
  },
  {
   "cell_type": "code",
   "execution_count": null,
   "metadata": {},
   "outputs": [],
   "source": [
    "# 저작권\n",
    "#\n",
    "# Copyright (c) 2017 François Chollet\n",
    "#\n",
    "# Permission is hereby granted, free of charge, to any person obtaining a\n",
    "# copy of this software and associated documentation files (the \"Software\"),\n",
    "# to deal in the Software without restriction, including without limitation\n",
    "# the rights to use, copy, modify, merge, publish, distribute, sublicense,\n",
    "# and/or sell copies of the Software, and to permit persons to whom the\n",
    "# Software is furnished to do so, subject to the following conditions:\n",
    "#\n",
    "# The above copyright notice and this permission notice shall be included in\n",
    "# all copies or substantial portions of the Software.\n",
    "#\n",
    "# THE SOFTWARE IS PROVIDED \"AS IS\", WITHOUT WARRANTY OF ANY KIND, EXPRESS OR\n",
    "# IMPLIED, INCLUDING BUT NOT LIMITED TO THE WARRANTIES OF MERCHANTABILITY,\n",
    "# FITNESS FOR A PARTICULAR PURPOSE AND NONINFRINGEMENT. IN NO EVENT SHALL\n",
    "# THE AUTHORS OR COPYRIGHT HOLDERS BE LIABLE FOR ANY CLAIM, DAMAGES OR OTHER\n",
    "# LIABILITY, WHETHER IN AN ACTION OF CONTRACT, TORT OR OTHERWISE, ARISING\n",
    "# FROM, OUT OF OR IN CONNECTION WITH THE SOFTWARE OR THE USE OR OTHER\n",
    "# DEALINGS IN THE SOFTWARE."
   ]
  }
 ],
 "metadata": {
  "kernelspec": {
   "display_name": "Python 3",
   "language": "python",
   "name": "python3"
  },
  "language_info": {
   "codemirror_mode": {
    "name": "ipython",
    "version": 3
   },
   "file_extension": ".py",
   "mimetype": "text/x-python",
   "name": "python",
   "nbconvert_exporter": "python",
   "pygments_lexer": "ipython3",
   "version": "3.7.6"
  }
 },
 "nbformat": 4,
 "nbformat_minor": 4
}

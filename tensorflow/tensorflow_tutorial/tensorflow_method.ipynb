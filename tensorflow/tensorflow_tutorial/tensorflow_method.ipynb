{
 "cells": [
  {
   "cell_type": "code",
   "execution_count": 1,
   "metadata": {},
   "outputs": [],
   "source": [
    "import tensorflow as tf"
   ]
  },
  {
   "cell_type": "markdown",
   "metadata": {},
   "source": [
    "tf.keras.layers.Flatten : 이 차원 이상의 배열을 1차원의 배열로 변환한다.\n",
    "\n",
    "tf.keras.layers.Dense 활성함수, 출력함수 등을 설정할 수 있는 딥러닝의 층\n",
    "\n",
    "model.compile(optimizer='adam',  \n",
    "        loss = 'sparse_categorical_crossentropy',  \n",
    "             metrics= ['accuracy'])   \n",
    "loss = 손실함수 - 훈련하는 동안 모델의 오차를 측정함. 모델의 학습이 올바른 방향으로 향하도록 하는 기준이 됨  \n",
    "optimizer = 옵티마이저(Optimizer) - 데이터와 손실 함수를 바탕으로 모델의 업데이트 방법을 결정합니다.  \n",
    "metrics = 지표(Metrics) - 훈련 단계와 테스트 단계를 모니터링 하기 위해 사용함  \n"
   ]
  },
  {
   "cell_type": "code",
   "execution_count": null,
   "metadata": {},
   "outputs": [],
   "source": []
  }
 ],
 "metadata": {
  "kernelspec": {
   "display_name": "Python 3",
   "language": "python",
   "name": "python3"
  },
  "language_info": {
   "codemirror_mode": {
    "name": "ipython",
    "version": 3
   },
   "file_extension": ".py",
   "mimetype": "text/x-python",
   "name": "python",
   "nbconvert_exporter": "python",
   "pygments_lexer": "ipython3",
   "version": "3.7.6"
  }
 },
 "nbformat": 4,
 "nbformat_minor": 4
}

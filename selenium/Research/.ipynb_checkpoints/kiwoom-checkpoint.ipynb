{
 "cells": [
  {
   "cell_type": "code",
   "execution_count": 1,
   "metadata": {},
   "outputs": [],
   "source": [
    "from selenium import webdriver\n",
    "from bs4 import BeautifulSoup\n",
    "import pandas as pd\n",
    "import datetime, pyperclip, time, os, re\n",
    "import pyautogui as pag\n",
    "import smtplib"
   ]
  },
  {
   "cell_type": "code",
   "execution_count": 49,
   "metadata": {},
   "outputs": [],
   "source": [
    "from selenium.webdriver.common.alert import Alert "
   ]
  },
  {
   "cell_type": "code",
   "execution_count": 112,
   "metadata": {},
   "outputs": [],
   "source": [
    "td= str(datetime.date.today())\n",
    "td = td.replace('-','.')"
   ]
  },
  {
   "cell_type": "code",
   "execution_count": 161,
   "metadata": {},
   "outputs": [
    {
     "name": "stdout",
     "output_type": "stream",
     "text": [
      "4Q20R_포스코인터_2101.pdf 포스코인터내셔널(047050) 다가올 수익성 회복과 신사업 기대\n",
      "210129_현대제철_4QR.pdf 현대제철 (004020) 일회성 비용 제외하면 예상부합\n",
      "210129_NAVER.pdf NAVER(035420) 연초부터 이루어지는 변혁의 흐름\n",
      "녹십자랩셀_기술이전.pdf 녹십자랩셀(144510) 기술이전은 글로벌 경쟁력 검증이며 시작일 뿐\n",
      "기업브리프-현대모비스-20210129.pdf 현대모비스 (012330) 전동화 부품이 꽃피는 해\n",
      "210129_POSCO_4QR.pdf POSCO (005490) 영업이익 예상치 부합\n",
      "삼성SDI_210129.pdf 삼성SDI (006400) 큰 그림 변함없다\n",
      "기업브리프-SOil_20210129.pdf SOil(010950) 작년 4분기 실적 시장 기대치 상회\n"
     ]
    }
   ],
   "source": [
    "kiwoom = r'https://www3.kiwoom.com/nkw.templateFrame.do?m=m0600000000&&xdr=&'\n",
    "\n",
    "download_dir=r'C:\\Users\\82107\\Desktop\\Research\\Kiwoom'\n",
    "if td not in os.listdir(download_dir):\n",
    "    os.mkdir(download_dir+'\\\\'+td)\n",
    "download_dir += f'\\{td}'\n",
    "options = webdriver.ChromeOptions()\n",
    "options.add_argument('--headless')\n",
    "options.add_experimental_option(\"prefs\", {\n",
    "  \"download.default_directory\": download_dir,\n",
    "  'profile.default_content_setting_values.automatic_downloads': 1,\n",
    "  \"download.prompt_for_download\": False,\n",
    "  \"plugins.always_open_pdf_externally\": True,\n",
    "  \"download.directory_upgrade\": True,\n",
    "  \"safebrowsing.enabled\": True\n",
    "})\n",
    "driver = webdriver.Chrome('../chromedriver.exe',options= options)\n",
    "driver.get(kiwoom)\n",
    "driver.refresh()\n",
    "driver.fullscreen_window()\n",
    "# driver.find_element_by_css_selector('#gnbList07 > a').click()\n",
    "\n",
    "\n",
    "driver.switch_to.frame(driver.find_element_by_xpath('html / frameset / frame[1]'))\n",
    "\n",
    "driver.find_element_by_css_selector('#gnb7menu > li.on > a').click()\n",
    "\n",
    "\n",
    "driver.switch_to.frame(driver.find_element_by_xpath('//*[@id=\"cross_ifm\"]'))\n",
    "\n",
    "driver.find_element_by_css_selector('body > div.tbWrap01 > table > tbody > tr:nth-child(1) > td.cdata.p0 > a').click()\n",
    "\n",
    "\n",
    "driver.switch_to.parent_frame()\n",
    "\n",
    "driver.find_element_by_css_selector('#gnb7menu > li:nth-child(5) > a').click()\n",
    "\n",
    "driver.switch_to.frame(driver.find_element_by_xpath('//*[@id=\"cross_ifm\"]'))\n",
    "\n",
    "tables = driver.find_elements_by_css_selector('body > div.tbWrap01 > table > tbody > tr')\n",
    "\n",
    "\n",
    "\n",
    "name_dict ={}\n",
    "for table in tables:\n",
    "    date = table.find_element_by_css_selector('td:nth-child(7)').text\n",
    "    if td == date:\n",
    "        table.find_element_by_css_selector('td.cdata.p0 > a').click()\n",
    "        key = table.find_element_by_css_selector('td.cdata > a').get_attribute('onclick').split(\"','\")[1]\n",
    "        value = table.find_element_by_css_selector('td.ldata > a').text\n",
    "        name_dict[key] =value\n",
    "\n",
    "for k,v in name_dict.items():\n",
    "    if '%s'%k in  os.listdir(download_dir):\n",
    "        v=  re.sub('[-=+,#/\\?:^$.@*\\\"※~&%ㆍ!』\\\\‘’|\\[\\]\\<\\>`\\'…》]', '',v)\n",
    "        os.replace(download_dir+r'/%s'%k, download_dir+r'/%s.pdf'%v)\n",
    "        print(k,v)\n",
    "        time.sleep(0.5)\n",
    "driver.quit()"
   ]
  },
  {
   "cell_type": "code",
   "execution_count": 147,
   "metadata": {},
   "outputs": [
    {
     "data": {
      "text/plain": [
       "'포스코인터내셔널(047050): 다가올 수익성 회복과 신사업 기대 pdf 파일 다운로드'"
      ]
     },
     "execution_count": 147,
     "metadata": {},
     "output_type": "execute_result"
    }
   ],
   "source": [
    "tables[0].find_element_by_css_selector('td.cdata > a').get_attribute('title')"
   ]
  },
  {
   "cell_type": "code",
   "execution_count": 134,
   "metadata": {},
   "outputs": [],
   "source": [
    "driver.quit()"
   ]
  },
  {
   "cell_type": "code",
   "execution_count": 136,
   "metadata": {},
   "outputs": [
    {
     "ename": "AttributeError",
     "evalue": "'WebElement' object has no attribute 's'",
     "output_type": "error",
     "traceback": [
      "\u001b[1;31m---------------------------------------------------------------------------\u001b[0m",
      "\u001b[1;31mAttributeError\u001b[0m                            Traceback (most recent call last)",
      "\u001b[1;32m<ipython-input-136-318b5e362183>\u001b[0m in \u001b[0;36m<module>\u001b[1;34m\u001b[0m\n\u001b[1;32m----> 1\u001b[1;33m \u001b[0mtable\u001b[0m\u001b[1;33m.\u001b[0m\u001b[0ms\u001b[0m\u001b[1;33m\u001b[0m\u001b[1;33m\u001b[0m\u001b[0m\n\u001b[0m",
      "\u001b[1;31mAttributeError\u001b[0m: 'WebElement' object has no attribute 's'"
     ]
    }
   ],
   "source": [
    "table.find_element_by_css_selector('')"
   ]
  },
  {
   "cell_type": "code",
   "execution_count": null,
   "metadata": {},
   "outputs": [],
   "source": []
  }
 ],
 "metadata": {
  "kernelspec": {
   "display_name": "Python 3",
   "language": "python",
   "name": "python3"
  },
  "language_info": {
   "codemirror_mode": {
    "name": "ipython",
    "version": 3
   },
   "file_extension": ".py",
   "mimetype": "text/x-python",
   "name": "python",
   "nbconvert_exporter": "python",
   "pygments_lexer": "ipython3",
   "version": "3.7.7"
  }
 },
 "nbformat": 4,
 "nbformat_minor": 4
}

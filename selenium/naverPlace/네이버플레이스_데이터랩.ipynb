{
 "cells": [
  {
   "cell_type": "code",
   "execution_count": 2,
   "metadata": {},
   "outputs": [],
   "source": [
    "from selenium import webdriver\n",
    "from bs4 import BeautifulSoup\n",
    "import pandas as pd"
   ]
  },
  {
   "cell_type": "code",
   "execution_count": 3,
   "metadata": {},
   "outputs": [],
   "source": [
    "df = pd.read_csv(\"../../scrapyproject/scrapyproject/file/naverPlace/여행랭크.csv\")"
   ]
  },
  {
   "cell_type": "code",
   "execution_count": 4,
   "metadata": {},
   "outputs": [
    {
     "data": {
      "text/html": [
       "<div>\n",
       "<style scoped>\n",
       "    .dataframe tbody tr th:only-of-type {\n",
       "        vertical-align: middle;\n",
       "    }\n",
       "\n",
       "    .dataframe tbody tr th {\n",
       "        vertical-align: top;\n",
       "    }\n",
       "\n",
       "    .dataframe thead th {\n",
       "        text-align: right;\n",
       "    }\n",
       "</style>\n",
       "<table border=\"1\" class=\"dataframe\">\n",
       "  <thead>\n",
       "    <tr style=\"text-align: right;\">\n",
       "      <th></th>\n",
       "      <th>addr</th>\n",
       "      <th>category</th>\n",
       "      <th>context</th>\n",
       "      <th>id1</th>\n",
       "      <th>name</th>\n",
       "      <th>rank</th>\n",
       "    </tr>\n",
       "  </thead>\n",
       "  <tbody>\n",
       "    <tr>\n",
       "      <th>0</th>\n",
       "      <td>강원도 홍천군 서면 팔봉리 1290-2</td>\n",
       "      <td>숙박,콘도,리조트</td>\n",
       "      <td>스키장,스노우보드,실내워터파크,편안한,등산</td>\n",
       "      <td>13139708</td>\n",
       "      <td>소노벨 비발디파크</td>\n",
       "      <td>1</td>\n",
       "    </tr>\n",
       "    <tr>\n",
       "      <th>1</th>\n",
       "      <td>강원도 홍천군 서면 팔봉리 1290-2</td>\n",
       "      <td>레저,테마,워터파크</td>\n",
       "      <td>실내워터파크,파도풀,노천온천,재미있는,휴식</td>\n",
       "      <td>11795570</td>\n",
       "      <td>오션월드</td>\n",
       "      <td>2</td>\n",
       "    </tr>\n",
       "    <tr>\n",
       "      <th>2</th>\n",
       "      <td>강원도 홍천군 두촌면 천현리 산134-1</td>\n",
       "      <td>여행,명소,산,고개</td>\n",
       "      <td>휴양림,등산,막국수,편안한,계곡</td>\n",
       "      <td>11491290</td>\n",
       "      <td>가리산</td>\n",
       "      <td>3</td>\n",
       "    </tr>\n",
       "    <tr>\n",
       "      <th>3</th>\n",
       "      <td>강원도 홍천군 서면 팔봉리 1290-2</td>\n",
       "      <td>숙박,콘도,리조트</td>\n",
       "      <td>스키장,실내수영장,산책로,편안한,휴식</td>\n",
       "      <td>13284318</td>\n",
       "      <td>소노펠리체 비발디파크</td>\n",
       "      <td>4</td>\n",
       "    </tr>\n",
       "    <tr>\n",
       "      <th>4</th>\n",
       "      <td>강원도 홍천군 두촌면 천현리 776</td>\n",
       "      <td>자연명소,휴양림,산림욕장</td>\n",
       "      <td>휴양림,짚라인,캠핑,재미있는,등산</td>\n",
       "      <td>11490993</td>\n",
       "      <td>가리산자연휴양림</td>\n",
       "      <td>5</td>\n",
       "    </tr>\n",
       "    <tr>\n",
       "      <th>...</th>\n",
       "      <td>...</td>\n",
       "      <td>...</td>\n",
       "      <td>...</td>\n",
       "      <td>...</td>\n",
       "      <td>...</td>\n",
       "      <td>...</td>\n",
       "    </tr>\n",
       "    <tr>\n",
       "      <th>3208</th>\n",
       "      <td>경상북도 고령군 덕곡면 노리</td>\n",
       "      <td>여행,명소,계곡</td>\n",
       "      <td>계곡,저수지,삼겹살,깨끗한,경치</td>\n",
       "      <td>21652251</td>\n",
       "      <td>상비리계곡</td>\n",
       "      <td>16</td>\n",
       "    </tr>\n",
       "    <tr>\n",
       "      <th>3209</th>\n",
       "      <td>경상북도 고령군 운수면 신간리 산123</td>\n",
       "      <td>숙박,캠핑,야영장</td>\n",
       "      <td>NaN</td>\n",
       "      <td>1298840811</td>\n",
       "      <td>대가야 캠프타운</td>\n",
       "      <td>17</td>\n",
       "    </tr>\n",
       "    <tr>\n",
       "      <th>3210</th>\n",
       "      <td>경상북도 고령군 대가야읍 장기리 532</td>\n",
       "      <td>여행,명소,보물</td>\n",
       "      <td>유적,암벽</td>\n",
       "      <td>20103855</td>\n",
       "      <td>고령 장기리 암각화</td>\n",
       "      <td>18</td>\n",
       "    </tr>\n",
       "    <tr>\n",
       "      <th>3211</th>\n",
       "      <td>경상북도 고령군 쌍림면 용리 187</td>\n",
       "      <td>종교,불교</td>\n",
       "      <td>대나무,유물,저수지</td>\n",
       "      <td>11663973</td>\n",
       "      <td>반룡사</td>\n",
       "      <td>19</td>\n",
       "    </tr>\n",
       "    <tr>\n",
       "      <th>3212</th>\n",
       "      <td>경상북도 고령군 다산면 좌학리 191</td>\n",
       "      <td>여행,명소,근린공원</td>\n",
       "      <td>NaN</td>\n",
       "      <td>20662075</td>\n",
       "      <td>좌학근린공원</td>\n",
       "      <td>20</td>\n",
       "    </tr>\n",
       "  </tbody>\n",
       "</table>\n",
       "<p>3213 rows × 6 columns</p>\n",
       "</div>"
      ],
      "text/plain": [
       "                        addr       category                  context  \\\n",
       "0      강원도 홍천군 서면 팔봉리 1290-2      숙박,콘도,리조트  스키장,스노우보드,실내워터파크,편안한,등산   \n",
       "1      강원도 홍천군 서면 팔봉리 1290-2     레저,테마,워터파크  실내워터파크,파도풀,노천온천,재미있는,휴식   \n",
       "2     강원도 홍천군 두촌면 천현리 산134-1     여행,명소,산,고개        휴양림,등산,막국수,편안한,계곡   \n",
       "3      강원도 홍천군 서면 팔봉리 1290-2      숙박,콘도,리조트     스키장,실내수영장,산책로,편안한,휴식   \n",
       "4        강원도 홍천군 두촌면 천현리 776  자연명소,휴양림,산림욕장       휴양림,짚라인,캠핑,재미있는,등산   \n",
       "...                      ...            ...                      ...   \n",
       "3208         경상북도 고령군 덕곡면 노리       여행,명소,계곡        계곡,저수지,삼겹살,깨끗한,경치   \n",
       "3209   경상북도 고령군 운수면 신간리 산123      숙박,캠핑,야영장                      NaN   \n",
       "3210   경상북도 고령군 대가야읍 장기리 532       여행,명소,보물                    유적,암벽   \n",
       "3211     경상북도 고령군 쌍림면 용리 187          종교,불교               대나무,유물,저수지   \n",
       "3212    경상북도 고령군 다산면 좌학리 191     여행,명소,근린공원                      NaN   \n",
       "\n",
       "             id1         name  rank  \n",
       "0       13139708    소노벨 비발디파크     1  \n",
       "1       11795570         오션월드     2  \n",
       "2       11491290          가리산     3  \n",
       "3       13284318  소노펠리체 비발디파크     4  \n",
       "4       11490993     가리산자연휴양림     5  \n",
       "...          ...          ...   ...  \n",
       "3208    21652251        상비리계곡    16  \n",
       "3209  1298840811     대가야 캠프타운    17  \n",
       "3210    20103855   고령 장기리 암각화    18  \n",
       "3211    11663973          반룡사    19  \n",
       "3212    20662075       좌학근린공원    20  \n",
       "\n",
       "[3213 rows x 6 columns]"
      ]
     },
     "execution_count": 4,
     "metadata": {},
     "output_type": "execute_result"
    }
   ],
   "source": [
    "df"
   ]
  },
  {
   "cell_type": "code",
   "execution_count": 5,
   "metadata": {},
   "outputs": [],
   "source": [
    "import time"
   ]
  },
  {
   "cell_type": "code",
   "execution_count": 6,
   "metadata": {},
   "outputs": [],
   "source": [
    "driver = webdriver.Chrome('../chromedriver.exe')"
   ]
  },
  {
   "cell_type": "code",
   "execution_count": 7,
   "metadata": {},
   "outputs": [
    {
     "data": {
      "text/html": [
       "<div>\n",
       "<style scoped>\n",
       "    .dataframe tbody tr th:only-of-type {\n",
       "        vertical-align: middle;\n",
       "    }\n",
       "\n",
       "    .dataframe tbody tr th {\n",
       "        vertical-align: top;\n",
       "    }\n",
       "\n",
       "    .dataframe thead th {\n",
       "        text-align: right;\n",
       "    }\n",
       "</style>\n",
       "<table border=\"1\" class=\"dataframe\">\n",
       "  <thead>\n",
       "    <tr style=\"text-align: right;\">\n",
       "      <th></th>\n",
       "      <th>분위기</th>\n",
       "      <th>인기토픽</th>\n",
       "      <th>찾는목적</th>\n",
       "      <th>인기월</th>\n",
       "      <th>10</th>\n",
       "      <th>20</th>\n",
       "      <th>30</th>\n",
       "      <th>40</th>\n",
       "      <th>50</th>\n",
       "      <th>60</th>\n",
       "      <th>name</th>\n",
       "    </tr>\n",
       "  </thead>\n",
       "  <tbody>\n",
       "  </tbody>\n",
       "</table>\n",
       "</div>"
      ],
      "text/plain": [
       "Empty DataFrame\n",
       "Columns: [분위기, 인기토픽, 찾는목적, 인기월, 10, 20, 30, 40, 50, 60, name]\n",
       "Index: []"
      ]
     },
     "execution_count": 7,
     "metadata": {},
     "output_type": "execute_result"
    }
   ],
   "source": [
    "xmf = pd.DataFrame(columns =['분위기', '인기토픽', '찾는목적', '인기월', '10', '20', '30', '40', '50', '60',\n",
    "       'name'])\n",
    "df2 = pd.DataFrame(columns= xmf.columns)\n",
    "df2"
   ]
  },
  {
   "cell_type": "code",
   "execution_count": null,
   "metadata": {},
   "outputs": [],
   "source": [
    "start_time =time.time()\n",
    "error = []\n",
    "for nb , idx in enumerate(df['id1'].values[301:601]):\n",
    "    md = {}\n",
    "    tpc = {}\n",
    "    obj = {}\n",
    "    list1 = [md,tpc,obj]\n",
    "    temp2 ={}\n",
    "    tn = {}\n",
    "    tw = {}\n",
    "    th = {}\n",
    "    fr = {}\n",
    "    ft = {}\n",
    "    sx= {}\n",
    "    temp3 =[tn,tw,th,fr,ft,sx]\n",
    "    try:\n",
    "        driver.get('https://pcmap.place.naver.com/place/{}/home'.format(idx))\n",
    "        time.sleep(1)\n",
    "        spl =driver.find_element_by_link_text('더보기')\n",
    "        spl.click()\n",
    "        soup = BeautifulSoup(driver.page_source, 'html')\n",
    "        div =  soup.select('div.place_detail_wrapper > div:nth-child(4) > div > div.place_section._1r18o')\n",
    "        ul = div[0].select('div')[0].select('div ul')\n",
    "        for j in range(3):\n",
    "            for num, i in enumerate(ul[0].select('li')[j].select('span')):\n",
    "                if num == 0:\n",
    "                    tmp = i.text\n",
    "                elif num ==1:\n",
    "                    list1[j][tmp] = i.text.replace(', ','')\n",
    "                else:\n",
    "                     list1[j][tmp] +='|'+ i.text.replace(', ','')\n",
    "        em = div[0].select('div')[0].select('h3 em')\n",
    "        temp2['인기월'] = em[0].text\n",
    "        ul2 = div[0].select('#bar_chart_container ul')\n",
    "        for i in range(6):\n",
    "            tmp = ul2[0].select('li')[i].text.split('%') \n",
    "            temp3[i][tmp[1][1:]] =tmp[0]\n",
    "        xmf =pd.concat([pd.DataFrame(md,index= [nb]) ,pd.DataFrame(tpc, index=[nb]),pd.DataFrame(obj, index=[nb]),\n",
    "                  pd.DataFrame(temp2, index=[nb]),pd.DataFrame(tn,index=[nb]),pd.DataFrame(tw, index=[nb]),\n",
    "                  pd.DataFrame(th, index=[nb]),pd.DataFrame(fr, index=[nb]),pd.DataFrame(ft, index=[nb]),pd.DataFrame(sx, index=[nb])],axis=1)\n",
    "        xmf['name'] = df.loc[nb,'name']\n",
    "\n",
    "        df2 = pd.concat([df2,xmf],axis=0)\n",
    "    \n",
    "    except:\n",
    "        error.append(nb)\n",
    "    if nb % 300 == 0 and nb != 0 :\n",
    "        end_time = time.time()\n",
    "        print(start_time - end_time)\n",
    "        start_time = time.time()"
   ]
  },
  {
   "cell_type": "code",
   "execution_count": 12,
   "metadata": {},
   "outputs": [],
   "source": [
    "df2.to_excel('../selenium_file/naverPlace_300개.xlsx')"
   ]
  },
  {
   "cell_type": "code",
   "execution_count": null,
   "metadata": {},
   "outputs": [],
   "source": [
    "dd\n",
    "list1"
   ]
  },
  {
   "cell_type": "code",
   "execution_count": 88,
   "metadata": {},
   "outputs": [
    {
     "data": {
      "text/plain": [
       "{'인기월': '3월, 4월'}"
      ]
     },
     "execution_count": 88,
     "metadata": {},
     "output_type": "execute_result"
    }
   ],
   "source": [
    "temp2"
   ]
  },
  {
   "cell_type": "code",
   "execution_count": 133,
   "metadata": {},
   "outputs": [
    {
     "data": {
      "text/html": [
       "<div>\n",
       "<style scoped>\n",
       "    .dataframe tbody tr th:only-of-type {\n",
       "        vertical-align: middle;\n",
       "    }\n",
       "\n",
       "    .dataframe tbody tr th {\n",
       "        vertical-align: top;\n",
       "    }\n",
       "\n",
       "    .dataframe thead th {\n",
       "        text-align: right;\n",
       "    }\n",
       "</style>\n",
       "<table border=\"1\" class=\"dataframe\">\n",
       "  <thead>\n",
       "    <tr style=\"text-align: right;\">\n",
       "      <th></th>\n",
       "      <th>분위기</th>\n",
       "      <th>인기토픽</th>\n",
       "      <th>찾는목적</th>\n",
       "      <th>인기월</th>\n",
       "      <th>10</th>\n",
       "      <th>20</th>\n",
       "      <th>30</th>\n",
       "      <th>40</th>\n",
       "      <th>50</th>\n",
       "      <th>60</th>\n",
       "      <th>name</th>\n",
       "    </tr>\n",
       "  </thead>\n",
       "  <tbody>\n",
       "    <tr>\n",
       "      <th>0</th>\n",
       "      <td>재미있는|깨끗한</td>\n",
       "      <td>계곡|캠핑|유원지|다슬기|참게탕</td>\n",
       "      <td>가족여행|힐링|휴식</td>\n",
       "      <td>3월, 4월</td>\n",
       "      <td>25.00000000000001</td>\n",
       "      <td>65.66549999999997</td>\n",
       "      <td>89.49299999999995</td>\n",
       "      <td>86.05549999999997</td>\n",
       "      <td>25.00000000000001</td>\n",
       "      <td>25.00000000000001</td>\n",
       "      <td>오션월드</td>\n",
       "    </tr>\n",
       "  </tbody>\n",
       "</table>\n",
       "</div>"
      ],
      "text/plain": [
       "        분위기               인기토픽        찾는목적     인기월                 10  \\\n",
       "0  재미있는|깨끗한  계곡|캠핑|유원지|다슬기|참게탕  가족여행|힐링|휴식  3월, 4월  25.00000000000001   \n",
       "\n",
       "                  20                 30                 40                 50  \\\n",
       "0  65.66549999999997  89.49299999999995  86.05549999999997  25.00000000000001   \n",
       "\n",
       "                  60  name  \n",
       "0  25.00000000000001  오션월드  "
      ]
     },
     "execution_count": 133,
     "metadata": {},
     "output_type": "execute_result"
    }
   ],
   "source": [
    "df2 = pd.DataFrame(columns= xmf.columns)\n",
    "df2 = pd.concat([df2,xmf],axis=0)\n",
    "df2"
   ]
  },
  {
   "cell_type": "code",
   "execution_count": 101,
   "metadata": {},
   "outputs": [
    {
     "data": {
      "text/plain": [
       "(dict_items([('분위기', '재미있는|깨끗한')]),\n",
       " dict_items([('인기토픽', '계곡|캠핑|유원지|다슬기|참게탕')]),\n",
       " dict_items([('찾는목적', '가족여행|힐링|휴식')]))"
      ]
     },
     "execution_count": 101,
     "metadata": {},
     "output_type": "execute_result"
    }
   ],
   "source": [
    "md.items(),tpc.items(),obj.items()"
   ]
  },
  {
   "cell_type": "code",
   "execution_count": 124,
   "metadata": {},
   "outputs": [
    {
     "data": {
      "text/html": [
       "<div>\n",
       "<style scoped>\n",
       "    .dataframe tbody tr th:only-of-type {\n",
       "        vertical-align: middle;\n",
       "    }\n",
       "\n",
       "    .dataframe tbody tr th {\n",
       "        vertical-align: top;\n",
       "    }\n",
       "\n",
       "    .dataframe thead th {\n",
       "        text-align: right;\n",
       "    }\n",
       "</style>\n",
       "<table border=\"1\" class=\"dataframe\">\n",
       "  <thead>\n",
       "    <tr style=\"text-align: right;\">\n",
       "      <th></th>\n",
       "      <th>분위기</th>\n",
       "      <th>인기토픽</th>\n",
       "      <th>찾는목적</th>\n",
       "      <th>인기월</th>\n",
       "      <th>10</th>\n",
       "      <th>20</th>\n",
       "      <th>30</th>\n",
       "      <th>40</th>\n",
       "      <th>50</th>\n",
       "      <th>60</th>\n",
       "      <th>name</th>\n",
       "    </tr>\n",
       "  </thead>\n",
       "  <tbody>\n",
       "    <tr>\n",
       "      <th>0</th>\n",
       "      <td>재미있는|깨끗한</td>\n",
       "      <td>계곡|캠핑|유원지|다슬기|참게탕</td>\n",
       "      <td>가족여행|힐링|휴식</td>\n",
       "      <td>3월, 4월</td>\n",
       "      <td>25.00000000000001</td>\n",
       "      <td>65.66549999999997</td>\n",
       "      <td>89.49299999999995</td>\n",
       "      <td>86.05549999999997</td>\n",
       "      <td>25.00000000000001</td>\n",
       "      <td>25.00000000000001</td>\n",
       "      <td>오션월드</td>\n",
       "    </tr>\n",
       "  </tbody>\n",
       "</table>\n",
       "</div>"
      ],
      "text/plain": [
       "        분위기               인기토픽        찾는목적     인기월                 10  \\\n",
       "0  재미있는|깨끗한  계곡|캠핑|유원지|다슬기|참게탕  가족여행|힐링|휴식  3월, 4월  25.00000000000001   \n",
       "\n",
       "                  20                 30                 40                 50  \\\n",
       "0  65.66549999999997  89.49299999999995  86.05549999999997  25.00000000000001   \n",
       "\n",
       "                  60  name  \n",
       "0  25.00000000000001  오션월드  "
      ]
     },
     "execution_count": 124,
     "metadata": {},
     "output_type": "execute_result"
    }
   ],
   "source": [
    "xmf =pd.concat([pd.DataFrame(md,index= [0]) ,pd.DataFrame(tpc, index=[0]),pd.DataFrame(obj, index=[0]),\n",
    "          pd.DataFrame(temp2, index=[0]),pd.DataFrame(tn,index=[0]),pd.DataFrame(tw, index=[0]),\n",
    "          pd.DataFrame(th, index=[0]),pd.DataFrame(fr, index=[0]),pd.DataFrame(ft, index=[0]),pd.DataFrame(sx, index=[0])],axis=1)\n",
    "xmf['name'] = df.loc[1,'name']\n",
    "xmf"
   ]
  },
  {
   "cell_type": "code",
   "execution_count": null,
   "metadata": {},
   "outputs": [],
   "source": []
  }
 ],
 "metadata": {
  "kernelspec": {
   "display_name": "Python 3",
   "language": "python",
   "name": "python3"
  },
  "language_info": {
   "codemirror_mode": {
    "name": "ipython",
    "version": 3
   },
   "file_extension": ".py",
   "mimetype": "text/x-python",
   "name": "python",
   "nbconvert_exporter": "python",
   "pygments_lexer": "ipython3",
   "version": "3.7.6"
  }
 },
 "nbformat": 4,
 "nbformat_minor": 4
}
